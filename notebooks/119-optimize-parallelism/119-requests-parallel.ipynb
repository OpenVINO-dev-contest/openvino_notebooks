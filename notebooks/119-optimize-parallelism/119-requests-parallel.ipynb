{
 "cells": [
  {
   "attachments": {},
   "cell_type": "markdown",
   "id": "ae03c399",
   "metadata": {},
   "source": [
    "# Inference Requests Parallel Workload Optimization\n",
    "\n",
    "This notebook demonstrates how to optimize the parallelism performance of multiple requests pipeline. In some scenarios, we have to run many inference requests with same model and concatenate the outputs of them for visualization. For example: multiple requests of recognition network will be implemented to identify each detected object separatly. The results of detection network are used to crop the original input image and produce the inputs for each recognition request. In this case, we can run these inference request synchronously (one by one), or make them in parallel to improve the throughputs.\n",
    "\n",
    "\n",
    "![image](https://github.com/OpenVINO-dev-contest/YOLOv7_OpenVINO_cpp-python/assets/91237924/b5124cfb-983b-4f59-ac2f-d74f6a2e1b02)\n"
   ]
  },
  {
   "attachments": {},
   "cell_type": "markdown",
   "id": "d5fedf7d",
   "metadata": {},
   "source": [
    "## Imports"
   ]
  },
  {
   "cell_type": "code",
   "execution_count": 6,
   "id": "9876d1ba-6b7e-4832-9d45-1b9dd546f061",
   "metadata": {},
   "outputs": [],
   "source": [
    "import sys\n",
    "import cv2\n",
    "import time\n",
    "import psutil\n",
    "import numpy as np\n",
    "from openvino.runtime import Core, AsyncInferQueue\n",
    "from IPython import display\n",
    "sys.path.append(\"../utils\")\n",
    "import notebook_utils as utils"
   ]
  },
  {
   "attachments": {},
   "cell_type": "markdown",
   "id": "97276a4c",
   "metadata": {},
   "source": [
    "## Download the Models\n",
    "We will use pre-trained models from OpenVINO's [Open Model Zoo](https://docs.openvino.ai/nightly/model_zoo.html) to start the test.\n",
    "\n",
    "Use `omz_downloader`, which is a command-line tool from the `openvino-dev` package. It automatically creates a directory structure and downloads the selected model. This step is skipped if the model is already downloaded. The selected model comes from the public directory, which means it must be converted into OpenVINO Intermediate Representation (OpenVINO IR).\n",
    "\n",
    "> **NOTE**: Using a model outside the list can require different pre- and post-processing.\n",
    "\n",
    "In this case, [person detection model]( https://docs.openvino.ai/latest/omz_models_model_person_detection_0202.html) is deployed to detect the person in each frame of the video, and [object recognition models]( https://docs.openvino.ai/latest/omz_models_model_person_attributes_recognition_crossroad_0234.html#doxid-omz-models-model-person-attributes-recognition-crossroad-0234) is used to recognize the attributes of detected people.\n",
    "\n",
    "\n",
    "If you want to download another model (`person-detection-xxx` from [Object Detection Models list](https://docs.openvino.ai/latest/omz_models_group_intel.html#object-detection-models), `person-reidentification-retail-xxx` from [Object Recognition Models list](https://docs.openvino.ai/latest/omz_models_group_intel.html#object-recognition-models)), replace the name of the model in the code below."
   ]
  },
  {
   "cell_type": "code",
   "execution_count": 7,
   "id": "0fd52940",
   "metadata": {},
   "outputs": [
    {
     "name": "stdout",
     "output_type": "stream",
     "text": [
      "################|| Downloading person-detection-0202 ||################\n",
      "\n",
      "========== Retrieving model/intel/person-detection-0202/FP16/person-detection-0202.xml from the cache\n",
      "\n",
      "========== Retrieving model/intel/person-detection-0202/FP16/person-detection-0202.bin from the cache\n",
      "\n"
     ]
    }
   ],
   "source": [
    "# directory where model will be downloaded\n",
    "base_model_dir = \"model\"\n",
    "\n",
    "# model name as named in Open Model Zoo\n",
    "model_name = \"person-detection-0202\"\n",
    "precision = \"FP16\"\n",
    "det_model_path = (\n",
    "    f\"model/intel/{model_name}/{precision}/{model_name}.xml\"\n",
    ")\n",
    "download_command = f\"omz_downloader \" \\\n",
    "                   f\"--name {model_name} \" \\\n",
    "                   f\"--precision {precision} \" \\\n",
    "                   f\"--output_dir {base_model_dir} \" \\\n",
    "                   f\"--cache_dir {base_model_dir}\"\n",
    "! $download_command"
   ]
  },
  {
   "cell_type": "code",
   "execution_count": 8,
   "id": "d159ea21-eb36-42e9-bf60-a96f7315e7f1",
   "metadata": {},
   "outputs": [
    {
     "name": "stdout",
     "output_type": "stream",
     "text": [
      "################|| Downloading person-attributes-recognition-crossroad-0234 ||################\n",
      "\n",
      "========== Retrieving model/intel/person-attributes-recognition-crossroad-0234/FP16/person-attributes-recognition-crossroad-0234.xml from the cache\n",
      "\n",
      "========== Retrieving model/intel/person-attributes-recognition-crossroad-0234/FP16/person-attributes-recognition-crossroad-0234.bin from the cache\n",
      "\n"
     ]
    }
   ],
   "source": [
    "# directory where model will be downloaded\n",
    "base_model_dir = \"model\"\n",
    "\n",
    "# model name as named in Open Model Zoo\n",
    "model_name = \"person-attributes-recognition-crossroad-0234\"\n",
    "precision = \"FP16\"\n",
    "rec_model_path = (\n",
    "    f\"model/intel/{model_name}/{precision}/{model_name}.xml\"\n",
    ")\n",
    "download_command = f\"omz_downloader \" \\\n",
    "                   f\"--name {model_name} \" \\\n",
    "                   f\"--precision {precision} \" \\\n",
    "                   f\"--output_dir {base_model_dir} \" \\\n",
    "                   f\"--cache_dir {base_model_dir}\"\n",
    "! $download_command"
   ]
  },
  {
   "attachments": {},
   "cell_type": "markdown",
   "id": "73979628",
   "metadata": {},
   "source": [
    "## Load, Configure and Run models\n",
    "Define a common class for model loading, configuration and predicting.\n",
    "\n",
    "There are four main steps for OpenVINO model initialization, and they are required to run for only once before inference loop.\n",
    " 1. Initialize OpenVINO Runtime.\n",
    " 2. Read the network from `*.bin` and `*.xml` files (weights and architecture).\n",
    " 3. Compile the model for device with configuration.\n",
    " 4. Get input and output names of nodes.\n",
    "\n",
    "In this case, we can put them all in a class constructor function."
   ]
  },
  {
   "cell_type": "code",
   "execution_count": 11,
   "id": "e32479f2-86f9-4a99-85af-5f0d3618c664",
   "metadata": {},
   "outputs": [],
   "source": [
    "class Module:\n",
    "    def __init__(self, core, model_path, type):\n",
    "        \"\"\"\n",
    "        Read the model file\n",
    "        \n",
    "        Parameters\n",
    "        ----------\n",
    "        core: OpenVINO core\n",
    "        model_path: path of inference model\n",
    "        type: type of model\n",
    "        \"\"\"\n",
    "        self.core = core\n",
    "        self.model = core.read_model(model_path)\n",
    "        self.type = type\n",
    "        self.active_requests = 0\n",
    "        self.clear()\n",
    "\n",
    "    def deploy(self, device, config={}, max_requests=1):\n",
    "        \"\"\"\n",
    "        Compile the model and create inference queue\n",
    "        \n",
    "        Parameters\n",
    "        ----------\n",
    "        device: device name\n",
    "        config: configuration on compiled model\n",
    "        type: maximum of inference requests can be created\n",
    "        \"\"\"\n",
    "        self.max_requests = max_requests\n",
    "        compiled_model = self.core.compile_model(self.model, device, config)\n",
    "        # we can print some low-level hardware configuration of compile model on CPU\n",
    "        if device == 'CPU':\n",
    "            print(f\"***** CPU cofigurations on {self.type} model  ****\")\n",
    "            NUM_STREAMS = compiled_model.get_property('NUM_STREAMS')\n",
    "            print(f\"> the number of streams: {NUM_STREAMS}\")\n",
    "            NUM_THREADS = compiled_model.get_property('INFERENCE_NUM_THREADS')\n",
    "            print(f\"> the number of inference threads: {NUM_THREADS}\")\n",
    "            CPU_PINNING = compiled_model.get_property('ENABLE_CPU_PINNING')\n",
    "            print(f\"> threads are binded to CPU processors: {CPU_PINNING}\")\n",
    "            CORE_TYPE = compiled_model.get_property('SCHEDULING_CORE_TYPE')\n",
    "            print(f\"> the type of core is: {CORE_TYPE}\")\n",
    "            HYPER_THREADING = compiled_model.get_property('ENABLE_HYPER_THREADING')\n",
    "            print(f\"> hyper-threading is on: {HYPER_THREADING}\")\n",
    "        self.output_tensor = compiled_model.outputs[0]\n",
    "        self.infer_queue = AsyncInferQueue(compiled_model, self.max_requests)\n",
    "        self.infer_queue.set_callback(self.completion_callback)\n",
    "\n",
    "    def completion_callback(self, infer_request, id):\n",
    "        \"\"\"\n",
    "        Define the postprocess function for each request\n",
    "        \n",
    "        Parameters\n",
    "        ----------\n",
    "        infer_request: inference request\n",
    "        id: id of inference request\n",
    "        \"\"\"\n",
    "        self.outputs[id] = infer_request.results[self.output_tensor]\n",
    "\n",
    "    def enqueue(self, input):\n",
    "        \"\"\"\n",
    "        Start the inference request in queue\n",
    "        \n",
    "        Parameters\n",
    "        ----------\n",
    "        input: input data\n",
    "        \"\"\"\n",
    "        if self.max_requests <= self.active_requests:\n",
    "            print('Processing request rejected - too many requests')\n",
    "            return False\n",
    "\n",
    "        self.infer_queue.start_async(input, self.active_requests)\n",
    "        self.active_requests += 1\n",
    "        return True\n",
    "\n",
    "    def wait(self):\n",
    "        \"\"\"\n",
    "        Wait for the all requests in queue are finished\n",
    "        \"\"\"\n",
    "        if self.active_requests <= 0:\n",
    "            return\n",
    "        self.infer_queue.wait_all()\n",
    "        self.active_requests = 0\n",
    "\n",
    "    def get_outputs(self):\n",
    "        \"\"\"\n",
    "        Extract the results from model outputs\n",
    "        \"\"\"\n",
    "        self.wait()\n",
    "        return [v for _, v in sorted(self.outputs.items())]\n",
    "\n",
    "    def clear(self):\n",
    "        \"\"\"\n",
    "        Clear the output list\n",
    "        \"\"\"\n",
    "        self.outputs = {}\n",
    "\n",
    "    def infer(self, inputs):\n",
    "        \"\"\"\n",
    "        Run inference and do postprocess\n",
    "        \n",
    "        Parameters\n",
    "        ----------\n",
    "        inputs: input data\n",
    "        \"\"\"\n",
    "        self.clear()\n",
    "        self.start_async(*inputs)\n",
    "        return self.postprocess()"
   ]
  },
  {
   "cell_type": "code",
   "execution_count": 12,
   "id": "e17b8937-5652-4ad4-b5f9-9276289075ea",
   "metadata": {},
   "outputs": [],
   "source": [
    "class Detector(Module):\n",
    "    def __init__(self, core, model, type, confidence_threshold=0.5):\n",
    "        \"\"\"\n",
    "        Read the model file\n",
    "        \n",
    "        Parameters\n",
    "        ----------\n",
    "        core: OpenVINO core\n",
    "        model_path: path of inference model\n",
    "        type: type of model\n",
    "        confidence_threshold: threshold for detection results\n",
    "        \"\"\"\n",
    "        super(Detector, self).__init__(core, model, type)\n",
    "        self.input_tensor_name = self.model.inputs[0].get_any_name()\n",
    "        self.input_shape = self.model.inputs[0].shape\n",
    "        self.confidence_threshold = confidence_threshold\n",
    "\n",
    "    def preprocess(self, frame):\n",
    "        \"\"\"\n",
    "        Preprocess function\n",
    "        \n",
    "        Parameters\n",
    "        ----------\n",
    "        frame: input image\n",
    "        \"\"\"\n",
    "        self.input_size = frame.shape\n",
    "        _, _, h, w = self.input_shape\n",
    "        resized_image = cv2.resize(frame, (w, h))\n",
    "        resized_image = resized_image.transpose((2, 0, 1))\n",
    "        resized_image = np.expand_dims(resized_image, axis=0).astype(np.float32)\n",
    "        return resized_image\n",
    "\n",
    "    def start_async(self, frame):\n",
    "        \"\"\"\n",
    "        Do prepreocess and push the processed image into the inference request queue\n",
    "        \n",
    "        Parameters\n",
    "        ----------\n",
    "        frame: input image\n",
    "        \"\"\"\n",
    "        input = self.preprocess(frame)\n",
    "        self.enqueue(input)\n",
    "\n",
    "    def enqueue(self, input):\n",
    "        return super(Detector, self).enqueue({self.input_tensor_name: input})\n",
    "\n",
    "    def postprocess(self):\n",
    "        \"\"\"\n",
    "        Postprocess\n",
    "        \"\"\"\n",
    "        outputs = self.get_outputs()[0]\n",
    "        # outputs shape is [N_requests, 1, 1, N_max_faces, 7]\n",
    "\n",
    "        boxes = []\n",
    "        for output in outputs[0][0]:\n",
    "            _, image_id, confidence, xmin, ymin, xmax, ymax = output\n",
    "            if confidence < self.confidence_threshold:\n",
    "                break # results are sorted by confidence decrease\n",
    "            \n",
    "            xmin = int(max((xmin * self.input_size[1]), 10))\n",
    "            ymin = int(max((ymin * self.input_size[0]), 10))\n",
    "            xmax = int(min((xmax * self.input_size[1]), self.input_size[1] - 10))\n",
    "            ymax = int(min((ymax * self.input_size[0]), self.input_size[0] - 10))\n",
    "            boxes.append([xmin, ymin, xmax, ymax])\n",
    "        return boxes\n",
    "    \n",
    "class Recognizer(Module):\n",
    "    def __init__(self, core, model, type):\n",
    "        super(Recognizer, self).__init__(core, model, type)\n",
    "        self.input_tensor_name = self.model.inputs[0].get_any_name()\n",
    "        self.input_shape = self.model.inputs[0].shape\n",
    "        self.output_shape = self.model.outputs[0].shape\n",
    "\n",
    "    def preprocess(self, frame):\n",
    "        \"\"\"\n",
    "        Preprocess\n",
    "        \n",
    "        Parameters\n",
    "        ----------\n",
    "        frame: input image\n",
    "        \"\"\"\n",
    "        self.input_size = frame.shape\n",
    "        _, _, h, w = self.input_shape\n",
    "        resized_image = cv2.resize(frame, (w, h))\n",
    "        resized_image = resized_image.transpose((2, 0, 1))\n",
    "        resized_image = np.expand_dims(resized_image, axis=0).astype(np.float32)\n",
    "        return resized_image\n",
    "\n",
    "    def start_async(self, frame, inputs):\n",
    "        \"\"\"\n",
    "        Crop the input image and push these cropped image into the inference request queue\n",
    "        \n",
    "        Parameters\n",
    "        ----------\n",
    "        frame: input image\n",
    "        \"\"\"\n",
    "        for input in inputs:\n",
    "            crop_image = frame[input[1]:input[3], input[0]:input[2]]\n",
    "            input = self.preprocess(crop_image)\n",
    "            self.enqueue(input)\n",
    "\n",
    "    def enqueue(self, input):\n",
    "        return super(Recognizer, self).enqueue({self.input_tensor_name: input})\n",
    "\n",
    "    def postprocess(self):\n",
    "        \"\"\"\n",
    "        Postprocess\n",
    "        \"\"\"\n",
    "        outputs = self.get_outputs()\n",
    "        return outputs"
   ]
  },
  {
   "attachments": {},
   "cell_type": "markdown",
   "id": "85b05b9a",
   "metadata": {},
   "source": [
    "## Initialize models object"
   ]
  },
  {
   "cell_type": "code",
   "execution_count": 13,
   "id": "159f410f-f87d-4142-9e30-0e84dd9d65ae",
   "metadata": {},
   "outputs": [],
   "source": [
    "core = Core()\n",
    "detector = Detector(core, det_model_path, type=\"detection\")\n",
    "recognizer = Recognizer(core, rec_model_path, type=\"recognition\")"
   ]
  },
  {
   "attachments": {},
   "cell_type": "markdown",
   "id": "b7ce87bc",
   "metadata": {},
   "source": [
    "## Load test video"
   ]
  },
  {
   "cell_type": "code",
   "execution_count": 14,
   "id": "817023bd-01c4-4e33-966d-667f946bc32d",
   "metadata": {},
   "outputs": [],
   "source": [
    "video_path = \"../data/video/people.mp4\""
   ]
  },
  {
   "attachments": {},
   "cell_type": "markdown",
   "id": "061d6aae",
   "metadata": {},
   "source": [
    "## Set-up the test pipeline"
   ]
  },
  {
   "cell_type": "code",
   "execution_count": 15,
   "id": "e78b18f2-fe3a-4f1c-9d1c-733767f995b9",
   "metadata": {},
   "outputs": [],
   "source": [
    "class benchmark:\n",
    "    def __init__(self, source,  detector=detector, recognizer=recognizer, config={'device':'CPU', 'det':{}, 'rec':{}}):\n",
    "        \"\"\"\n",
    "        Compile the model and create inference queue\n",
    "        \n",
    "        Parameters\n",
    "        ----------\n",
    "        source: input video\n",
    "        detector: detection model object\n",
    "        recognizer: recognition model object\n",
    "        config: compiled model configuration\n",
    "        \"\"\"\n",
    "        self.source = source\n",
    "        self.detector = detector\n",
    "        self.recognizer = recognizer\n",
    "        self.detector.deploy(config['device'], config['det'])\n",
    "        self.recognizer.deploy(config['device'], config['rec'], max_requests=56)\n",
    "        \n",
    "    def pipeline(self, visual, flip=False, fps=30, skip_first_frames=0):\n",
    "        \"\"\"\n",
    "        Run inference pipeline on input video\n",
    "        \n",
    "        Parameters\n",
    "        ----------\n",
    "        visual: whether to show visualization results\n",
    "        flip: to be used by VideoPlayer function for flipping capture image\n",
    "        use_popup: False for showing encoded frames over this notebook, True for creating a popup window.\n",
    "        skip_first_frames: Number of frames to skip at the beginning of the video.\n",
    "        \"\"\"\n",
    "        # Create infer requests queue\n",
    "        player = None\n",
    "        try:\n",
    "            # Create a video player\n",
    "            player = utils.VideoPlayer(self.source, flip=flip, fps=fps, skip_first_frames=skip_first_frames)\n",
    "            # Start capturing\n",
    "            player.start()\n",
    "            time_cost = 0\n",
    "            it = 0\n",
    "            while True:\n",
    "                # Capture frame\n",
    "                frame = player.next()\n",
    "                if frame is None:\n",
    "                    break\n",
    "                it = it + 1\n",
    "                # detection and recognition model are running sychronously\n",
    "                rois = self.detector.infer((frame,))\n",
    "                start_time = time.time()\n",
    "                recognition = self.recognizer.infer((frame, rois))\n",
    "                time_cost = time_cost+ time.time() - start_time\n",
    "                if visual == True:\n",
    "                    for i in range(len(recognition)):\n",
    "                        cv2.rectangle(frame, (rois[i][0], rois[i][1]), (rois[i][2], rois[i][3]), (0, 255, 0), 2)\n",
    "                        cv2.putText(frame, \"is_male: \"+str(recognition[i][0][0]), (rois[i][0], rois[i][1]-5), cv2.FONT_HERSHEY_SIMPLEX, 0.7, (0, 255, 0), 3)\n",
    "                    _, encoded_img = cv2.imencode(\".jpg\", frame, params=[cv2.IMWRITE_JPEG_QUALITY, 90])\n",
    "                    # Create IPython image\n",
    "                    i = display.Image(data=encoded_img)\n",
    "                    # Display the image in this notebook\n",
    "                    display.clear_output(wait=True)\n",
    "                    display.display(i)\n",
    "        except KeyboardInterrupt:\n",
    "            print(\"Interrupted\")\n",
    "        # Any different error\n",
    "        except RuntimeError as e:\n",
    "            print(e)\n",
    "        finally:\n",
    "            fps = it / time_cost\n",
    "            player.stop()\n",
    "            return fps\n",
    "        \n",
    "    def run(self, loop=5, visual=False):\n",
    "        \"\"\"\n",
    "        Run test for multiple loop\n",
    "        \n",
    "        Parameters\n",
    "        ----------\n",
    "        loop: iterations of single test\n",
    "        visual: whether to show visualization results\n",
    "        \"\"\"\n",
    "        cum_fps = 0\n",
    "        for i in range(loop):\n",
    "            fps = self.pipeline(visual)\n",
    "            cum_fps = cum_fps + fps\n",
    "        avg_fps = cum_fps / loop\n",
    "        print(f\"average fps: {avg_fps:.2f} fps\")\n",
    "        return avg_fps"
   ]
  },
  {
   "attachments": {},
   "cell_type": "markdown",
   "id": "ed6f7bef",
   "metadata": {},
   "source": [
    "## Hardware information"
   ]
  },
  {
   "cell_type": "code",
   "execution_count": 16,
   "id": "7dd188e5-3a6b-4db3-9532-cfbf6615fbdc",
   "metadata": {},
   "outputs": [
    {
     "name": "stdout",
     "output_type": "stream",
     "text": [
      "The total number of cores is 112, including 56 physical cores\n",
      "CPU: Intel(R) Xeon(R) Gold 6348 CPU @ 2.60GHz\n",
      "GPU: Intel(R) Data Center GPU Flex 170 (dGPU)\n"
     ]
    }
   ],
   "source": [
    "CORE_NUM = psutil.cpu_count()\n",
    "PHY_CORE_NUM = psutil.cpu_count(logical=False)\n",
    "print(f\"The total number of cores is {CORE_NUM}, including {PHY_CORE_NUM} physical cores\")\n",
    "\n",
    "for device in core.available_devices:\n",
    "    device_name = core.get_property(device, \"FULL_DEVICE_NAME\")\n",
    "    print(f\"{device}: {device_name}\")\n",
    "    \n",
    "    if device_name == 'CPU':\n",
    "        CORE_NUM = psutil.cpu_count()\n",
    "        PHY_CORE_NUM = psutil.cpu_count(logical=False)\n",
    "        print(f\"The total number of cores is {CORE_NUM}, including {PHY_CORE_NUM} physical cores\")"
   ]
  },
  {
   "attachments": {},
   "cell_type": "markdown",
   "id": "aa396b07",
   "metadata": {},
   "source": [
    "## Create a list to collect configurations and performance results"
   ]
  },
  {
   "cell_type": "code",
   "execution_count": 17,
   "id": "e4071f19-f88f-421e-aebf-a6d5bdfc5110",
   "metadata": {},
   "outputs": [],
   "source": [
    "configs = []\n",
    "results = []"
   ]
  },
  {
   "attachments": {},
   "cell_type": "markdown",
   "id": "dbd06ced",
   "metadata": {},
   "source": [
    "## Run benchmark with different configurations"
   ]
  },
  {
   "attachments": {},
   "cell_type": "markdown",
   "id": "1e6671de",
   "metadata": {},
   "source": [
    "### 1. No configuration\n",
    "\n",
    "We can leave all of the configuration default, and set the benchmark results of it as baseline data."
   ]
  },
  {
   "cell_type": "code",
   "execution_count": 18,
   "id": "cf290a2f-1093-48c7-832e-759d1a758e9f",
   "metadata": {},
   "outputs": [
    {
     "name": "stdout",
     "output_type": "stream",
     "text": [
      "***** CPU cofigurations on detection model  ****\n",
      "> the number of streams: 2\n",
      "> the number of inference threads: 56\n",
      "> threads are binded to CPU processors: True\n",
      "> the type of core is: SchedulingCoreType.ANY_CORE\n",
      "> hyper-threading is on: False\n",
      "***** CPU cofigurations on recognition model  ****\n",
      "> the number of streams: 2\n",
      "> the number of inference threads: 56\n",
      "> threads are binded to CPU processors: True\n",
      "> the type of core is: SchedulingCoreType.ANY_CORE\n",
      "> hyper-threading is on: False\n",
      "average fps: 22.33 fps\n"
     ]
    }
   ],
   "source": [
    "config_1 = {'device':'CPU', 'det':{}, 'rec':{}}\n",
    "test_1 = benchmark(source=video_path, config=config_1)\n",
    "result_1 = test_1.run(visual=False)\n",
    "configs.append(str(config_1))\n",
    "results.append(result_1)"
   ]
  },
  {
   "attachments": {},
   "cell_type": "markdown",
   "id": "4457e683",
   "metadata": {},
   "source": [
    "### 2. High-level Performance Hints\n",
    "\n",
    "The `Performance Hints` express a target scenario with a single config key and let the device configure itself in response.Throughput and latency are some of the most widely used metrics that measure the overall performance of an application. Therefore, in order to ease the configuration of the device, OpenVINO offers two dedicated hints, namely `{\"PERFORMANCE_HINT\": \"THROUGHPUT\"}` and `{\"PERFORMANCE_HINT\": \"LATENCY\"}`. In `\"LATENCY\"` mode, sysem will leverage more resource on a single inference request, and in `\"THROUGHPUT\"` model, hareware resource will be separated into different requests, to maxmum the throughput of parallel requests.\n",
    "\n",
    " Since the detection model is an independent workload with single request, the hint of this model can be set as `\"LATENCY\"` model. For recognition model, we can do some comparason to identitfy which hint is better, because the peroformance can be various depending on the device and network architecture."
   ]
  },
  {
   "cell_type": "code",
   "execution_count": 19,
   "id": "3cc9d1a3",
   "metadata": {},
   "outputs": [
    {
     "name": "stdout",
     "output_type": "stream",
     "text": [
      "***** CPU cofigurations on detection model  ****\n",
      "> the number of streams: 2\n",
      "> the number of inference threads: 56\n",
      "> threads are binded to CPU processors: True\n",
      "> the type of core is: SchedulingCoreType.ANY_CORE\n",
      "> hyper-threading is on: False\n",
      "***** CPU cofigurations on recognition model  ****\n",
      "> the number of streams: 2\n",
      "> the number of inference threads: 56\n",
      "> threads are binded to CPU processors: True\n",
      "> the type of core is: SchedulingCoreType.ANY_CORE\n",
      "> hyper-threading is on: False\n",
      "average fps: 23.97 fps\n"
     ]
    }
   ],
   "source": [
    "config_2 = {'device':'CPU', 'det':{\"PERFORMANCE_HINT\":\"LATENCY\"}, 'rec':{\"PERFORMANCE_HINT\":\"LATENCY\"}}\n",
    "test_2 = benchmark(source=video_path, config=config_2)\n",
    "result_2 = test_2.run(visual=False)\n",
    "configs.append(str(config_2))\n",
    "results.append(result_2)"
   ]
  },
  {
   "cell_type": "code",
   "execution_count": 20,
   "id": "641e9ef9-15f5-420c-850d-2243b38f3c49",
   "metadata": {},
   "outputs": [
    {
     "name": "stdout",
     "output_type": "stream",
     "text": [
      "***** CPU cofigurations on detection model  ****\n",
      "> the number of streams: 2\n",
      "> the number of inference threads: 56\n",
      "> threads are binded to CPU processors: True\n",
      "> the type of core is: SchedulingCoreType.ANY_CORE\n",
      "> hyper-threading is on: False\n",
      "***** CPU cofigurations on recognition model  ****\n",
      "> the number of streams: 56\n",
      "> the number of inference threads: 56\n",
      "> threads are binded to CPU processors: True\n",
      "> the type of core is: SchedulingCoreType.ANY_CORE\n",
      "> hyper-threading is on: False\n",
      "average fps: 16.98 fps\n"
     ]
    }
   ],
   "source": [
    "config_3 = {'device':'CPU', 'det':{\"PERFORMANCE_HINT\":\"LATENCY\"}, 'rec':{\"PERFORMANCE_HINT\":\"THROUGHPUT\"}}\n",
    "test_3 = benchmark(source=video_path, config=config_3)\n",
    "result_3 = test_3.run(visual=False)\n",
    "configs.append(str(config_3))\n",
    "results.append(result_3)"
   ]
  },
  {
   "attachments": {},
   "cell_type": "markdown",
   "id": "6b76ec57",
   "metadata": {},
   "source": [
    "Batching is a straightforward way of leveraging the compute power of GPU and saving on communication overheads. we can enable `Automatic Batching` to improve device utilization by grouping inference requests together. With `Automatic Batching`, gathering the input and scattering the output from the individual inference requests required for the batch happen transparently, without affecting the application code.These 2 ways are provided for the user to enable the BATCH devices explicitly or implicitly, Batching is “implicitly” triggered on the GPU with config = `{\"PERFORMANCE_HINT\": \"THROUGHPUT\"}` , and `\"BATCH:GPU(16)\"` can explicitly load BATCH device and tell it to apply GPU device with batch size = 16.\n",
    "\n",
    "`Automatic Batching` primarily targets the existing code written for inferencing many requests, each instance with the batch size 1. To get corresponding performance improvements, the application must be running multiple inference requests simultaneously."
   ]
  },
  {
   "cell_type": "code",
   "execution_count": 25,
   "id": "2655bbed",
   "metadata": {},
   "outputs": [
    {
     "name": "stdout",
     "output_type": "stream",
     "text": [
      "average fps: 1.27 fps\n"
     ]
    }
   ],
   "source": [
    "config_4 = {'device':'BATCH:GPU(4)', 'det':{\"PERFORMANCE_HINT\":\"LATENCY\"}, 'rec':{\"PERFORMANCE_HINT\":\"THROUGHPUT\"}}\n",
    "test_4 = benchmark(source=video_path, config=config_4)\n",
    "result_4 = test_4.run(visual=False)\n",
    "configs.append(str(config_4))\n",
    "results.append(result_4)"
   ]
  },
  {
   "attachments": {},
   "cell_type": "markdown",
   "id": "0d10a63c",
   "metadata": {},
   "source": [
    "### 3. Further Low-Level Implementation\n",
    "\n",
    "Besides Performance Hints, we can still implement some `low-level configuration` to further improve the performance according to task scenarios. For example, we can try to change the number of streams and number of threads to find out a best configuration for your device and network. \n",
    "\n",
    "![image](https://github.com/OpenVINO-dev-contest/YOLOv7_OpenVINO_cpp-python/assets/91237924/119e5aa8-0199-4456-90f8-bf9583e706df)\n",
    "\n",
    "> - **Streams**: \n",
    "Internally, every device implements a queue, which acts as a buffer, storing the inference requests until retrieved by the device at its own pace. The devices may actually process multiple inference requests in parallel in order to improve the device utilization and overall throughput. This configurable method of this device-side parallelism is commonly referred as streams. The larger stream number, the larger number of parallel request is permitted. For example, 4 streams mean 4 inference requests can be run parellel on CPU. Please notes that the maxmum number of streams is equal to the number of CPU processors.\n",
    "\n",
    "> - **Threads**: \n",
    "Threads means the minmum unit of CPU resource in inference for a compliled model. The threads will be equally allocated to each stream. For example if the tatal number of threads is 16 and number of stream is 4, the threads allocated to each stream will be 4."
   ]
  },
  {
   "cell_type": "code",
   "execution_count": 22,
   "id": "20d1bf05-bea5-4b75-8c71-46a94d6d147a",
   "metadata": {},
   "outputs": [
    {
     "name": "stdout",
     "output_type": "stream",
     "text": [
      "***** CPU cofigurations on detection model  ****\n",
      "> the number of streams: 2\n",
      "> the number of inference threads: 56\n",
      "> threads are binded to CPU processors: True\n",
      "> the type of core is: SchedulingCoreType.ANY_CORE\n",
      "> hyper-threading is on: False\n",
      "***** CPU cofigurations on recognition model  ****\n",
      "> the number of streams: 7\n",
      "> the number of inference threads: 56\n",
      "> threads are binded to CPU processors: True\n",
      "> the type of core is: SchedulingCoreType.ANY_CORE\n",
      "> hyper-threading is on: False\n",
      "average fps: 28.74 fps\n"
     ]
    }
   ],
   "source": [
    "config_5 = {'device':'CPU', 'det':{\"PERFORMANCE_HINT\":\"LATENCY\"}, 'rec':{\"NUM_STREAMS\":7,'INFERENCE_NUM_THREADS':56}}\n",
    "test_5 = benchmark(source=video_path, config=config_5)\n",
    "result_5 = test_5.run(visual=False)\n",
    "configs.append(str(config_5))\n",
    "results.append(result_5)"
   ]
  },
  {
   "cell_type": "code",
   "execution_count": 23,
   "id": "af421153-9fd2-4f90-9433-45b63933a929",
   "metadata": {},
   "outputs": [
    {
     "name": "stdout",
     "output_type": "stream",
     "text": [
      "***** CPU cofigurations on detection model  ****\n",
      "> the number of streams: 2\n",
      "> the number of inference threads: 56\n",
      "> threads are binded to CPU processors: True\n",
      "> the type of core is: SchedulingCoreType.ANY_CORE\n",
      "> hyper-threading is on: False\n",
      "***** CPU cofigurations on recognition model  ****\n",
      "> the number of streams: 14\n",
      "> the number of inference threads: 56\n",
      "> threads are binded to CPU processors: True\n",
      "> the type of core is: SchedulingCoreType.ANY_CORE\n",
      "> hyper-threading is on: False\n",
      "average fps: 33.55 fps\n"
     ]
    }
   ],
   "source": [
    "config_6 = {'device':'CPU', 'det':{\"PERFORMANCE_HINT\":\"LATENCY\"}, 'rec':{\"NUM_STREAMS\":14,'INFERENCE_NUM_THREADS':56}}\n",
    "test_6 = benchmark(source=video_path, config=config_6)\n",
    "result_6 = test_6.run(visual=False)\n",
    "configs.append(str(config_6))\n",
    "results.append(result_6)"
   ]
  },
  {
   "attachments": {},
   "cell_type": "markdown",
   "id": "01d3d00d",
   "metadata": {},
   "source": [
    "## Benchmark results visulization"
   ]
  },
  {
   "cell_type": "code",
   "execution_count": 24,
   "id": "8bcd7e38-d497-4ac0-8361-4960b150816d",
   "metadata": {},
   "outputs": [
    {
     "data": {
      "image/png": "[encoded data removed]",
      "text/plain": [
       "<Figure size 1600x800 with 1 Axes>"
      ]
     },
     "metadata": {},
     "output_type": "display_data"
    }
   ],
   "source": [
    "from matplotlib import pyplot as plt\n",
    "\n",
    "bar_colors = cv2.applyColorMap(\n",
    "    src=np.arange(0, 255, 255 / len(results), dtype=np.float32).astype(np.uint8),\n",
    "    colormap=cv2.COLORMAP_RAINBOW,\n",
    ").squeeze()\n",
    "\n",
    "fig, ax = plt.subplots(figsize=(16, 8))\n",
    "ax.bar(configs, results, color=bar_colors/ 255.0)\n",
    "\n",
    "ax.set_ylabel(\"FPS\")\n",
    "ax.set_title(\"Performance difference\")\n",
    "\n",
    "plt.xticks(rotation='vertical')\n",
    "plt.show()\n",
    "configs = []\n",
    "results = []"
   ]
  }
 ],
 "metadata": {
  "kernelspec": {
   "display_name": "Python 3 (ipykernel)",
   "language": "python",
   "name": "python3"
  },
  "language_info": {
   "codemirror_mode": {
    "name": "ipython",
    "version": 3
   },
   "file_extension": ".py",
   "mimetype": "text/x-python",
   "name": "python",
   "nbconvert_exporter": "python",
   "pygments_lexer": "ipython3",
   "version": "3.10.6"
  }
 },
 "nbformat": 4,
 "nbformat_minor": 5
}
