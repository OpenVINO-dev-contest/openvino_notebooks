{
 "cells": [
  {
   "attachments": {},
   "cell_type": "markdown",
   "id": "bbf03a57",
   "metadata": {},
   "source": [
    "# Multiple Network Workload Optimization\n",
    "\n",
    "This notebook demonstrates how to optimize the parallelism performance of multiple networks workload. In some cases, we have to run several different networks and concatenate the results of them for further postprocess logic. Since the output of each model is independent in this workload, these networks' inference request can be started sychronously or asychronously. For example: an ADAS system can detect pedestrian and segment lane at same time.\n",
    "\n",
    "![image](https://github.com/openvinotoolkit/openvino_notebooks/assets/91237924/26f2064a-a874-4766-acc5-80ad9aad5d28)"
   ]
  },
  {
   "attachments": {},
   "cell_type": "markdown",
   "id": "e138ca69",
   "metadata": {},
   "source": [
    "## Imports"
   ]
  },
  {
   "cell_type": "code",
   "execution_count": 25,
   "id": "9876d1ba-6b7e-4832-9d45-1b9dd546f061",
   "metadata": {},
   "outputs": [],
   "source": [
    "import sys\n",
    "import cv2\n",
    "import time\n",
    "import psutil\n",
    "import numpy as np\n",
    "from openvino.runtime import Core, AsyncInferQueue\n",
    "from IPython import display\n",
    "sys.path.append(\"../utils\")\n",
    "import notebook_utils as utils"
   ]
  },
  {
   "attachments": {},
   "cell_type": "markdown",
   "id": "8188a1db",
   "metadata": {},
   "source": [
    "## Download the Models\n",
    "We will use pre-trained models from OpenVINO's [Open Model Zoo](https://docs.openvino.ai/nightly/model_zoo.html) to start the test.\n",
    "\n",
    "Use `omz_downloader`, which is a command-line tool from the `openvino-dev` package. It automatically creates a directory structure and downloads the selected model. This step is skipped if the model is already downloaded. The selected model comes from the public directory, which means it must be converted into OpenVINO Intermediate Representation (OpenVINO IR).\n",
    "\n",
    "> **NOTE**: Using a model outside the list can require different pre- and post-processing.\n",
    "\n",
    "In this case, [person detection model]( https://docs.openvino.ai/latest/omz_models_model_person_detection_0202.html) is deployed to detect the person in each frame of the video, and segementation model is from notebook [003-hello-segmentation](../003-hello-segmentation)\n",
    "\n",
    "\n",
    "If you want to download another model (`person-detection-xxx` from [Object Detection Models list](https://docs.openvino.ai/latest/omz_models_group_intel.html#object-detection-models), replace the name of the model in the code below."
   ]
  },
  {
   "cell_type": "code",
   "execution_count": 26,
   "id": "7d7bb86e-79a2-4e61-9e84-d91d34736a3f",
   "metadata": {},
   "outputs": [
    {
     "name": "stdout",
     "output_type": "stream",
     "text": [
      "################|| Downloading person-detection-0202 ||################\n",
      "\n",
      "========== Retrieving model/intel/person-detection-0202/FP16/person-detection-0202.xml from the cache\n",
      "\n",
      "========== Retrieving model/intel/person-detection-0202/FP16/person-detection-0202.bin from the cache\n",
      "\n"
     ]
    }
   ],
   "source": [
    "# directory where model will be downloaded\n",
    "base_model_dir = \"model\"\n",
    "\n",
    "# model name as named in Open Model Zoo\n",
    "model_name = \"person-detection-0202\"\n",
    "precision = \"FP16\"\n",
    "det_model_path = (\n",
    "    f\"model/intel/{model_name}/{precision}/{model_name}.xml\"\n",
    ")\n",
    "download_command = f\"omz_downloader \" \\\n",
    "                   f\"--name {model_name} \" \\\n",
    "                   f\"--precision {precision} \" \\\n",
    "                   f\"--output_dir {base_model_dir} \" \\\n",
    "                   f\"--cache_dir {base_model_dir}\"\n",
    "! $download_command"
   ]
  },
  {
   "cell_type": "code",
   "execution_count": 27,
   "id": "bc8fb832-6e4e-445a-a6ef-b55c1b6128da",
   "metadata": {},
   "outputs": [],
   "source": [
    "seg_model_path = \"../003-hello-segmentation/model/road-segmentation-adas-0001.xml\""
   ]
  },
  {
   "attachments": {},
   "cell_type": "markdown",
   "id": "ae9ee937",
   "metadata": {},
   "source": [
    "## Load, Configure and Run models\n",
    "Define a common class for model loading, configuration and predicting.\n",
    "\n",
    "There are four main steps for OpenVINO model initialization, and they are required to run for only once before inference loop.\n",
    " 1. Initialize OpenVINO Runtime.\n",
    " 2. Read the network from `*.bin` and `*.xml` files (weights and architecture).\n",
    " 3. Compile the model for device with configuration.\n",
    " 4. Get input and output names of nodes.\n",
    "\n",
    "In this case, we can put them all in a class constructor function."
   ]
  },
  {
   "cell_type": "code",
   "execution_count": 28,
   "id": "e32479f2-86f9-4a99-85af-5f0d3618c664",
   "metadata": {},
   "outputs": [],
   "source": [
    "class Module:\n",
    "    def __init__(self, core, model_path, type):\n",
    "        \"\"\"\n",
    "        Read the model file\n",
    "        \n",
    "        Parameters\n",
    "        ----------\n",
    "        core: OpenVINO core\n",
    "        model_path: path of inference model\n",
    "        type: type of model\n",
    "        \"\"\"\n",
    "        self.core = core\n",
    "        self.model = core.read_model(model_path)\n",
    "        self.type = type\n",
    "        self.active_requests = 0\n",
    "        self.clear()\n",
    "\n",
    "    def deploy(self, device, config={}, max_requests=1):\n",
    "        \"\"\"\n",
    "        Compile the model and create inference queue\n",
    "        \n",
    "        Parameters\n",
    "        ----------\n",
    "        device: device name\n",
    "        config: configuration on compiled model\n",
    "        type: maximum of inference requests can be created\n",
    "        \"\"\"\n",
    "        self.max_requests = max_requests\n",
    "        compiled_model = self.core.compile_model(self.model, device, config)\n",
    "        # we can print some low-level hardware configuration of compile model on CPU\n",
    "        if device == 'CPU':\n",
    "            print(f\"***** CPU cofigurations on {self.type} model  ****\")\n",
    "            NUM_STREAMS = compiled_model.get_property('NUM_STREAMS')\n",
    "            print(f\"> the number of streams: {NUM_STREAMS}\")\n",
    "            NUM_THREADS = compiled_model.get_property('INFERENCE_NUM_THREADS')\n",
    "            print(f\"> the number of inference threads: {NUM_THREADS}\")\n",
    "            CPU_PINNING = compiled_model.get_property('ENABLE_CPU_PINNING')\n",
    "            print(f\"> threads are binded to CPU processors: {CPU_PINNING}\")\n",
    "            CORE_TYPE = compiled_model.get_property('SCHEDULING_CORE_TYPE')\n",
    "            print(f\"> the type of core is: {CORE_TYPE}\")\n",
    "            HYPER_THREADING = compiled_model.get_property('ENABLE_HYPER_THREADING')\n",
    "            print(f\"> hyper-threading is on: {HYPER_THREADING}\")\n",
    "        self.output_tensor = compiled_model.outputs[0]\n",
    "        self.infer_queue = AsyncInferQueue(compiled_model, self.max_requests)\n",
    "        self.infer_queue.set_callback(self.completion_callback)\n",
    "\n",
    "    def completion_callback(self, infer_request, id):\n",
    "        \"\"\"\n",
    "        Define the postprocess function for each request\n",
    "        \n",
    "        Parameters\n",
    "        ----------\n",
    "        infer_request: inference request\n",
    "        id: id of inference request\n",
    "        \"\"\"\n",
    "        self.outputs[id] = infer_request.results[self.output_tensor]\n",
    "\n",
    "    def enqueue(self, input):\n",
    "        \"\"\"\n",
    "        Start the inference request in queue\n",
    "        \n",
    "        Parameters\n",
    "        ----------\n",
    "        input: input data\n",
    "        \"\"\"\n",
    "        if self.max_requests <= self.active_requests:\n",
    "            print('Processing request rejected - too many requests')\n",
    "            return False\n",
    "\n",
    "        self.infer_queue.start_async(input, self.active_requests)\n",
    "        self.active_requests += 1\n",
    "        return True\n",
    "\n",
    "    def wait(self):\n",
    "        \"\"\"\n",
    "        Wait for the all requests in queue are finished\n",
    "        \"\"\"\n",
    "        if self.active_requests <= 0:\n",
    "            return\n",
    "        self.infer_queue.wait_all()\n",
    "        self.active_requests = 0\n",
    "\n",
    "    def get_outputs(self):\n",
    "        \"\"\"\n",
    "        Extract the results from model outputs\n",
    "        \"\"\"\n",
    "        self.wait()\n",
    "        return [v for _, v in sorted(self.outputs.items())]\n",
    "\n",
    "    def clear(self):\n",
    "        \"\"\"\n",
    "        Clear the output list\n",
    "        \"\"\"\n",
    "        self.outputs = {}\n",
    "\n",
    "    def infer(self, inputs):\n",
    "        \"\"\"\n",
    "        Run inference and do postprocess\n",
    "        \n",
    "        Parameters\n",
    "        ----------\n",
    "        inputs: input data\n",
    "        \"\"\"\n",
    "        self.clear()\n",
    "        self.start_async(*inputs)\n",
    "        return self.postprocess()"
   ]
  },
  {
   "attachments": {},
   "cell_type": "markdown",
   "id": "de122386",
   "metadata": {},
   "source": [
    "Define the classes of detection and segmentation model."
   ]
  },
  {
   "cell_type": "code",
   "execution_count": 29,
   "id": "e17b8937-5652-4ad4-b5f9-9276289075ea",
   "metadata": {},
   "outputs": [],
   "source": [
    "class Detector(Module):\n",
    "    def __init__(self, core, model, type, confidence_threshold=0.5):\n",
    "        \"\"\"\n",
    "        Read the model file\n",
    "        \n",
    "        Parameters\n",
    "        ----------\n",
    "        core: OpenVINO core\n",
    "        model_path: path of inference model\n",
    "        type: type of model\n",
    "        confidence_threshold: threshold for detection results\n",
    "        \"\"\"\n",
    "        super(Detector, self).__init__(core, model, type)\n",
    "        self.input_tensor_name = self.model.inputs[0].get_any_name()\n",
    "        self.input_shape = self.model.inputs[0].shape\n",
    "        self.confidence_threshold = confidence_threshold\n",
    "\n",
    "    def preprocess(self, frame):\n",
    "        \"\"\"\n",
    "        Preprocess function\n",
    "        \n",
    "        Parameters\n",
    "        ----------\n",
    "        frame: input image\n",
    "        \"\"\"\n",
    "        self.input_size = frame.shape\n",
    "        _, _, h, w = self.input_shape\n",
    "        resized_image = cv2.resize(frame, (w, h))\n",
    "        resized_image = cv2.cvtColor(np.array(resized_image), cv2.COLOR_BGR2RGB)\n",
    "        resized_image = resized_image.transpose((2, 0, 1))\n",
    "        resized_image = np.expand_dims(resized_image, axis=0).astype(np.float32)\n",
    "        return resized_image\n",
    "\n",
    "    def start_async(self, frame):\n",
    "        \"\"\"\n",
    "        Do prepreocess and push the processed image into the inference request queue\n",
    "        \n",
    "        Parameters\n",
    "        ----------\n",
    "        frame: input image\n",
    "        \"\"\"\n",
    "        input = self.preprocess(frame)\n",
    "        self.enqueue(input)\n",
    "\n",
    "    def enqueue(self, input):\n",
    "        return super(Detector, self).enqueue({self.input_tensor_name: input})\n",
    "\n",
    "    def postprocess(self):\n",
    "        \"\"\"\n",
    "        Postprocess\n",
    "        \"\"\"\n",
    "        outputs = self.get_outputs()[0]\n",
    "        # outputs shape is [N_requests, 1, 1, N_max_faces, 7]\n",
    "\n",
    "        boxes = []\n",
    "        for output in outputs[0][0]:\n",
    "            _, image_id, confidence, xmin, ymin, xmax, ymax = output\n",
    "            if confidence < self.confidence_threshold:\n",
    "                break # results are sorted by confidence decrease\n",
    "            \n",
    "            xmin = int(max((xmin * self.input_size[1]), 10))\n",
    "            ymin = int(max((ymin * self.input_size[0]), 10))\n",
    "            xmax = int(min((xmax * self.input_size[1]), self.input_size[1] - 10))\n",
    "            ymax = int(min((ymax * self.input_size[0]), self.input_size[0] - 10))\n",
    "            boxes.append([xmin, ymin, xmax, ymax])\n",
    "        return boxes\n",
    "    \n",
    "class Segmenter(Module):\n",
    "    def __init__(self, core, model, type):\n",
    "        super(Segmenter, self).__init__(core, model, type)\n",
    "        self.input_tensor_name = self.model.inputs[0].get_any_name()\n",
    "        self.input_shape = self.model.inputs[0].shape\n",
    "        self.output_shape = self.model.outputs[0].shape\n",
    "        self.colormap = np.array([[68, 1, 84], [48, 103, 141], [53, 183, 120], [199, 216, 52]])\n",
    "        \n",
    "        # Define the transparency of the segmentation mask on the photo.\n",
    "        self.alpha = 0.3\n",
    "\n",
    "\n",
    "    def preprocess(self, frame):\n",
    "        \"\"\"\n",
    "        Preprocess\n",
    "        \n",
    "        Parameters\n",
    "        ----------\n",
    "        frame: input image\n",
    "        \"\"\"\n",
    "        self.input_size = frame.shape\n",
    "        _, _, h, w = self.input_shape\n",
    "        frame = cv2.cvtColor(frame, cv2.COLOR_BGR2RGB)\n",
    "        resized_image = cv2.resize(frame, (w, h))\n",
    "        resized_image = resized_image.transpose((2, 0, 1))\n",
    "        resized_image = np.expand_dims(resized_image, axis=0).astype(np.float32)\n",
    "        return resized_image\n",
    "\n",
    "    def start_async(self, frame):\n",
    "        input = self.preprocess(frame)\n",
    "        self.enqueue(input)\n",
    "\n",
    "    def enqueue(self, input):\n",
    "        return super(Segmenter, self).enqueue({self.input_tensor_name: input})\n",
    "\n",
    "    def postprocess(self):\n",
    "        \"\"\"\n",
    "        Postprocess\n",
    "        \"\"\"\n",
    "        outputs = self.get_outputs()[0]\n",
    "        segmentation_mask = np.argmax(outputs, axis=1)\n",
    "\n",
    "        # Use function from notebook_utils.py to transform mask to an RGB image.\n",
    "        mask = utils.segmentation_map_to_image(segmentation_mask, self.colormap)\n",
    "        resized_mask = cv2.resize(mask, (self.input_size[1], self.input_size[0]))\n",
    "        return resized_mask"
   ]
  },
  {
   "attachments": {},
   "cell_type": "markdown",
   "id": "5198895b",
   "metadata": {},
   "source": [
    "## Initialize models object"
   ]
  },
  {
   "cell_type": "code",
   "execution_count": 30,
   "id": "159f410f-f87d-4142-9e30-0e84dd9d65ae",
   "metadata": {},
   "outputs": [],
   "source": [
    "core = Core()\n",
    "detector = Detector(core, det_model_path, type=\"detection\")\n",
    "segmenter = Segmenter(core, seg_model_path, type=\"segmentation\")"
   ]
  },
  {
   "attachments": {},
   "cell_type": "markdown",
   "id": "9fb42679",
   "metadata": {},
   "source": [
    "## Load test video"
   ]
  },
  {
   "cell_type": "code",
   "execution_count": 31,
   "id": "817023bd-01c4-4e33-966d-667f946bc32d",
   "metadata": {},
   "outputs": [],
   "source": [
    "video_path = \"../data/video/people.mp4\""
   ]
  },
  {
   "attachments": {},
   "cell_type": "markdown",
   "id": "e56fb8fe",
   "metadata": {},
   "source": [
    "## Create the test pipeline"
   ]
  },
  {
   "cell_type": "code",
   "execution_count": 32,
   "id": "6833b52a-81d5-4ea8-bb70-16cd2e2d347c",
   "metadata": {},
   "outputs": [],
   "source": [
    "class benchmark:\n",
    "    def __init__(self, source, mode='async', detector=detector, segmenter=segmenter, config={'device':'CPU', 'det':{}, 'rec':{}}):\n",
    "        \"\"\"\n",
    "        Compile the model and create inference queue\n",
    "        \n",
    "        Parameters\n",
    "        ----------\n",
    "        source: input video\n",
    "        detector: detection model object\n",
    "        recognizer: recognition model object\n",
    "        config: compiled model configuration\n",
    "        \"\"\"\n",
    "        self.source = source\n",
    "        self.mode = mode\n",
    "        self.detector = detector\n",
    "        self.segmenter = segmenter\n",
    "        self.detector.deploy(config['device'], config['det'])\n",
    "        self.segmenter.deploy(config['device'],config['seg'])\n",
    "        \n",
    "    def pipeline(self, visual, flip=False, fps=30, skip_first_frames=0):\n",
    "        \"\"\"\n",
    "        Run inference pipeline on input video\n",
    "        \n",
    "        Parameters\n",
    "        ----------\n",
    "        visual: whether to show visualization results\n",
    "        flip: to be used by VideoPlayer function for flipping capture image\n",
    "        use_popup: False for showing encoded frames over this notebook, True for creating a popup window.\n",
    "        skip_first_frames: Number of frames to skip at the beginning of the video.\n",
    "        \"\"\"\n",
    "        # Create infer requests queue\n",
    "        player = None\n",
    "        try:\n",
    "            # Create a video player\n",
    "            player = utils.VideoPlayer(self.source, flip=flip, fps=fps, skip_first_frames=skip_first_frames)\n",
    "            # Start capturing\n",
    "            player.start()\n",
    "            time_cost = 0\n",
    "            it = 0\n",
    "            while True:\n",
    "                # Capture frame\n",
    "                frame = player.next()\n",
    "                if frame is None:\n",
    "                    break\n",
    "                start_time = time.perf_counter()\n",
    "                it = it + 1\n",
    "                # if these two models are running sychronously or asychronously\n",
    "                if self.mode == 'sync':\n",
    "                    rois = self.detector.infer((frame,))\n",
    "                    mask = self.segmenter.infer((frame,))\n",
    "                else:\n",
    "                    self.detector.start_async(frame)\n",
    "                    self.segmenter.start_async(frame)\n",
    "                    rois =  self.detector.postprocess()\n",
    "                    mask = self.segmenter.postprocess()\n",
    "                time_cost = time_cost + time.perf_counter() - start_time\n",
    "                if visual == True:\n",
    "                    for i in range(len(rois)):\n",
    "                        cv2.rectangle(mask, (rois[i][0], rois[i][1]), (rois[i][2], rois[i][3]), (0, 255, 0), 2)\n",
    "                    _, encoded_img = cv2.imencode(\".jpg\", mask, params=[cv2.IMWRITE_JPEG_QUALITY, 90])\n",
    "                    # Create IPython image\n",
    "                    i = display.Image(data=encoded_img)\n",
    "                    # Display the image in this notebook\n",
    "                    display.clear_output(wait=True)\n",
    "                    display.display(i)\n",
    "        except KeyboardInterrupt:\n",
    "            print(\"Interrupted\")\n",
    "        # Any different error\n",
    "        except RuntimeError as e:\n",
    "            print(e)\n",
    "        finally:\n",
    "            fps = it / time_cost\n",
    "            player.stop()\n",
    "            return fps\n",
    "        \n",
    "    def run(self, loop=10, visual=False):\n",
    "        \"\"\"\n",
    "        Run test for multiple loop\n",
    "        \n",
    "        Parameters\n",
    "        ----------\n",
    "        loop: iterations of single test\n",
    "        visual: whether to show visualization results\n",
    "        \"\"\"\n",
    "        cum_fps = 0\n",
    "        for i in range(loop):\n",
    "            fps = self.pipeline(visual)\n",
    "            # exclude the warm-up loop\n",
    "            if i == 0:\n",
    "                continue\n",
    "            cum_fps = cum_fps + fps\n",
    "        avg_fps = cum_fps / (loop - 1)\n",
    "        print(f\"average fps: {avg_fps:.2f} fps\")\n",
    "        return avg_fps"
   ]
  },
  {
   "attachments": {},
   "cell_type": "markdown",
   "id": "795238c6",
   "metadata": {},
   "source": [
    "## Hardware information"
   ]
  },
  {
   "cell_type": "code",
   "execution_count": 33,
   "id": "cf290a2f-1093-48c7-832e-759d1a758e9f",
   "metadata": {},
   "outputs": [
    {
     "name": "stdout",
     "output_type": "stream",
     "text": [
      "The total number of cores is 112, including 56 physical cores\n",
      "CPU: Intel(R) Xeon(R) Gold 6348 CPU @ 2.60GHz\n",
      "GPU: Intel(R) Data Center GPU Flex 170 (dGPU)\n"
     ]
    }
   ],
   "source": [
    "CORE_NUM = psutil.cpu_count()\n",
    "PHY_CORE_NUM = psutil.cpu_count(logical=False)\n",
    "print(f\"The total number of cores is {CORE_NUM}, including {PHY_CORE_NUM} physical cores\")\n",
    "\n",
    "for device in core.available_devices:\n",
    "    device_name = core.get_property(device, \"FULL_DEVICE_NAME\")\n",
    "    print(f\"{device}: {device_name}\")\n",
    "    \n",
    "    if device_name == 'CPU':\n",
    "        CORE_NUM = psutil.cpu_count()\n",
    "        PHY_CORE_NUM = psutil.cpu_count(logical=False)\n",
    "        print(f\"The total number of cores is {CORE_NUM}, including {PHY_CORE_NUM} physical cores\")"
   ]
  },
  {
   "attachments": {},
   "cell_type": "markdown",
   "id": "f2f90ff0",
   "metadata": {},
   "source": [
    "## Create a list to collect configurations and performance results"
   ]
  },
  {
   "cell_type": "code",
   "execution_count": 34,
   "id": "82a1e980-6f1d-4033-9195-98d8be999e87",
   "metadata": {},
   "outputs": [],
   "source": [
    "configs = []\n",
    "results = []"
   ]
  },
  {
   "attachments": {},
   "cell_type": "markdown",
   "id": "afcc5c92",
   "metadata": {},
   "source": [
    "## Run benchmark with different configurations\n",
    "\n",
    "\n",
    "> **Note**: The multi-threading logic for CPU inference is matrix of multiple approaches related to hardware platform, operating system, and application properties. The configuration parameter for best performance may be various depending on the hardware platform, operating system and network's'architecture."
   ]
  },
  {
   "attachments": {},
   "cell_type": "markdown",
   "id": "6f8a88eb",
   "metadata": {},
   "source": [
    "### 1. Default\n",
    "\n",
    "We can leave all of the configuration default, and set the benchmark results of it as baseline data. Default behavior is using all CPU resource for each network.\n",
    "\n",
    "Here we will test the performance of multiple networks pipeline in both synchronous and asynchronous mode."
   ]
  },
  {
   "cell_type": "code",
   "execution_count": 35,
   "id": "f1740f96",
   "metadata": {},
   "outputs": [
    {
     "name": "stdout",
     "output_type": "stream",
     "text": [
      "***** CPU cofigurations on detection model  ****\n",
      "> the number of streams: 2\n",
      "> the number of inference threads: 56\n",
      "> threads are binded to CPU processors: True\n",
      "> the type of core is: SchedulingCoreType.ANY_CORE\n",
      "> hyper-threading is on: False\n",
      "***** CPU cofigurations on segmentation model  ****\n",
      "> the number of streams: 2\n",
      "> the number of inference threads: 56\n",
      "> threads are binded to CPU processors: True\n",
      "> the type of core is: SchedulingCoreType.ANY_CORE\n",
      "> hyper-threading is on: False\n",
      "average fps: 13.25 fps\n"
     ]
    }
   ],
   "source": [
    "config_1 = {'device':'CPU','mode':'sync', 'det':{}, 'seg':{}}\n",
    "test_1 = benchmark(video_path, mode=config_1['mode'], config=config_1)\n",
    "result_1= test_1.run(visual=False)\n",
    "configs.append(str(config_1))\n",
    "results.append(result_1)"
   ]
  },
  {
   "cell_type": "code",
   "execution_count": 36,
   "id": "f07a39b7",
   "metadata": {},
   "outputs": [
    {
     "name": "stdout",
     "output_type": "stream",
     "text": [
      "***** CPU cofigurations on detection model  ****\n",
      "> the number of streams: 2\n",
      "> the number of inference threads: 56\n",
      "> threads are binded to CPU processors: True\n",
      "> the type of core is: SchedulingCoreType.ANY_CORE\n",
      "> hyper-threading is on: False\n",
      "***** CPU cofigurations on segmentation model  ****\n",
      "> the number of streams: 2\n",
      "> the number of inference threads: 56\n",
      "> threads are binded to CPU processors: True\n",
      "> the type of core is: SchedulingCoreType.ANY_CORE\n",
      "> hyper-threading is on: False\n",
      "average fps: 16.11 fps\n"
     ]
    }
   ],
   "source": [
    "config_2 = {'device':'CPU', 'det':{}, 'seg':{}}\n",
    "test_2 = benchmark(video_path, config=config_2)\n",
    "result_2 = test_2.run(visual=False)\n",
    "configs.append(str(config_2))\n",
    "results.append(result_2)"
   ]
  },
  {
   "attachments": {},
   "cell_type": "markdown",
   "id": "ba5045a9",
   "metadata": {},
   "source": [
    "### 2. High-level Performance Hints\n",
    "\n",
    "The `Performance Hints` express a target scenario with a single config key and let the device configure itself in response.Throughput and latency are some of the most widely used metrics that measure the overall performance of an application. Therefore, in order to ease the configuration of the device, OpenVINO offers two dedicated hints, namely `{\"PERFORMANCE_HINT\": \"THROUGHPUT\"}` and `{\"PERFORMANCE_HINT\": \"LATENCY\"}`. In `\"LATENCY\"` mode, sysem will leverage more resource on a single inference request, and in `\"THROUGHPUT\"` model, hareware resource will be separated into different requests, to maxmum the throughput of parallel requests.\n",
    "\n",
    " Since inference request of each network is running synchronously which means the next request will be started until the current one is finished, the hint of these models can be set as `\"LATENCY\"` model. "
   ]
  },
  {
   "cell_type": "code",
   "execution_count": 37,
   "id": "f63cdffc",
   "metadata": {},
   "outputs": [
    {
     "name": "stdout",
     "output_type": "stream",
     "text": [
      "***** CPU cofigurations on detection model  ****\n",
      "> the number of streams: 2\n",
      "> the number of inference threads: 56\n",
      "> threads are binded to CPU processors: True\n",
      "> the type of core is: SchedulingCoreType.ANY_CORE\n",
      "> hyper-threading is on: False\n",
      "***** CPU cofigurations on segmentation model  ****\n",
      "> the number of streams: 2\n",
      "> the number of inference threads: 56\n",
      "> threads are binded to CPU processors: True\n",
      "> the type of core is: SchedulingCoreType.ANY_CORE\n",
      "> hyper-threading is on: False\n",
      "average fps: 13.84 fps\n"
     ]
    }
   ],
   "source": [
    "config_3 = {'device':'CPU', 'det':{\"PERFORMANCE_HINT\":\"LATENCY\"}, 'seg':{\"PERFORMANCE_HINT\":\"LATENCY\"}}\n",
    "test_3 = benchmark(video_path, config=config_3)\n",
    "result_3 = test_3.run(visual=False)\n",
    "configs.append(str(config_3))\n",
    "results.append(result_3)"
   ]
  },
  {
   "attachments": {},
   "cell_type": "markdown",
   "id": "89180855",
   "metadata": {},
   "source": [
    "### 3. Further Low-Level Implementation\n",
    "\n",
    "Besides Performance Hints, we can still implement some `low-level configuration` to further improve the performance according to task scenarios. For example, we can try to change the number of streams and number of threads to find out a best configuration for your device and network. \n",
    "\n",
    "![image](https://github.com/OpenVINO-dev-contest/YOLOv7_OpenVINO_cpp-python/assets/91237924/119e5aa8-0199-4456-90f8-bf9583e706df)\n",
    "\n",
    "- **Streams**: \n",
    "Internally, every device implements a queue, which acts as a buffer, storing the inference requests until retrieved by the device at its own pace. The devices may actually process multiple inference requests in parallel in order to improve the device utilization and overall throughput. This configurable method of this device-side parallelism is commonly referred as streams. The larger stream number, the larger number of parallel request is permitted. For example, 4 streams mean 4 inference requests can be run parellel on CPU. Please notes that the maxmum number of streams is equal to the number of CPU processors.\n",
    "\n",
    "- **Threads**: \n",
    "Threads means the minmum unit of CPU resource in inference for a compliled model. The threads will be equally allocated to each stream. For example if the tatal number of threads is 16 and number of stream is 4, the threads allocated to each stream will be 4.\n",
    "\n",
    "In asynchronous mode, each processor will bind multiple threads from different networks, which means the threads of two network may compete on same processor resources. To avoid CPU reource competition, we can disable the processor binding properties by `{'ENABLE_CPU_PINNING':False}` and let operation system to schedule the processor for each thread of network. \n",
    "\n",
    "> **NOTE**: Setting may not work if platform or OS cannot support the behavior. Then properties will be migrated to correct value."
   ]
  },
  {
   "cell_type": "code",
   "execution_count": 38,
   "id": "ede31989",
   "metadata": {},
   "outputs": [
    {
     "name": "stdout",
     "output_type": "stream",
     "text": [
      "***** CPU cofigurations on detection model  ****\n",
      "> the number of streams: 1\n",
      "> the number of inference threads: 28\n",
      "> threads are binded to CPU processors: False\n",
      "> the type of core is: SchedulingCoreType.ANY_CORE\n",
      "> hyper-threading is on: False\n",
      "***** CPU cofigurations on segmentation model  ****\n",
      "> the number of streams: 1\n",
      "> the number of inference threads: 28\n",
      "> threads are binded to CPU processors: False\n",
      "> the type of core is: SchedulingCoreType.ANY_CORE\n",
      "> hyper-threading is on: False\n",
      "average fps: 15.66 fps\n"
     ]
    }
   ],
   "source": [
    "config_4 = {'device':'CPU', 'det':{\"NUM_STREAMS\":1,'INFERENCE_NUM_THREADS':28, 'ENABLE_CPU_PINNING':False}, 'seg':{\"NUM_STREAMS\":1,'INFERENCE_NUM_THREADS':28, 'ENABLE_CPU_PINNING':False}}\n",
    "test_4 = benchmark(video_path, config=config_4)\n",
    "result_4 = test_4.run(visual=False)\n",
    "configs.append(str(config_4))\n",
    "results.append(result_4)"
   ]
  },
  {
   "cell_type": "code",
   "execution_count": 39,
   "id": "0cca33df-0416-45cb-955f-55bb82bc5b91",
   "metadata": {},
   "outputs": [
    {
     "name": "stdout",
     "output_type": "stream",
     "text": [
      "***** CPU cofigurations on detection model  ****\n",
      "> the number of streams: 1\n",
      "> the number of inference threads: 14\n",
      "> threads are binded to CPU processors: False\n",
      "> the type of core is: SchedulingCoreType.ANY_CORE\n",
      "> hyper-threading is on: False\n",
      "***** CPU cofigurations on segmentation model  ****\n",
      "> the number of streams: 1\n",
      "> the number of inference threads: 42\n",
      "> threads are binded to CPU processors: False\n",
      "> the type of core is: SchedulingCoreType.ANY_CORE\n",
      "> hyper-threading is on: False\n",
      "average fps: 16.40 fps\n"
     ]
    }
   ],
   "source": [
    "config_5 = {'device':'CPU', 'det':{\"NUM_STREAMS\":1,'INFERENCE_NUM_THREADS':14, 'ENABLE_CPU_PINNING':False}, 'seg':{\"NUM_STREAMS\":1,'INFERENCE_NUM_THREADS':42, 'ENABLE_CPU_PINNING':False}}\n",
    "test_5 = benchmark(video_path, config=config_5)\n",
    "result_5 = test_5.run(visual=False)\n",
    "configs.append(str(config_5))\n",
    "results.append(result_5)"
   ]
  },
  {
   "attachments": {},
   "cell_type": "markdown",
   "id": "ea12221e",
   "metadata": {},
   "source": [
    "### 4. More Configuration\n",
    "\n",
    "For a 12th+ GEN Core CPU platform, we can trigger its Efficient Core to do inference instead of Performance Core, which can help to save energy with lower computing resources."
   ]
  },
  {
   "cell_type": "code",
   "execution_count": 40,
   "id": "5fca86a4",
   "metadata": {},
   "outputs": [],
   "source": [
    "# config_6 = {'device':'CPU', 'det':{\"SCHEDULING_CORE_TYPE\":\"SchedulingCoreType.ECORE_ONLY\"}, 'seg':{\"SCHEDULING_CORE_TYPE\":\"SchedulingCoreType.ECORE_ONLY\"}}\n",
    "# test_6 = benchmark(source=video_path, config=config_6)\n",
    "# result_6 = test_6.run(visual=False)\n",
    "# configs.append(str(config_6))\n",
    "# results.append(result_6)"
   ]
  },
  {
   "attachments": {},
   "cell_type": "markdown",
   "id": "c03a0994",
   "metadata": {},
   "source": [
    "If your CPU platform supports hyper-threading, you can try to disable it. In some cases, it may help to improve the performance."
   ]
  },
  {
   "cell_type": "code",
   "execution_count": 41,
   "id": "266ab23c",
   "metadata": {},
   "outputs": [],
   "source": [
    "# config_7 = {'device':'CPU', 'det':{\"ENABLE_HYPER_THREADING\":\"False\"}, 'rec':{\"ENABLE_HYPER_THREADING\":\"False\"}}\n",
    "# test_7 = benchmark(source=video_path, config=config_7)\n",
    "# result_7 = test_7.run(visual=False)\n",
    "# configs.append(str(config_7))\n",
    "# results.append(result_7)"
   ]
  },
  {
   "attachments": {},
   "cell_type": "markdown",
   "id": "25926d08",
   "metadata": {},
   "source": [
    "## Benchmark results visulization"
   ]
  },
  {
   "cell_type": "code",
   "execution_count": 42,
   "id": "8bcd7e38-d497-4ac0-8361-4960b150816d",
   "metadata": {},
   "outputs": [
    {
     "data": {
      "image/png": "[encoded data removed]",
      "text/plain": [
       "<Figure size 1600x800 with 1 Axes>"
      ]
     },
     "metadata": {},
     "output_type": "display_data"
    }
   ],
   "source": [
    "from matplotlib import pyplot as plt\n",
    "\n",
    "bar_colors = cv2.applyColorMap(\n",
    "    src=np.arange(0, 255, 255 / len(results), dtype=np.float32).astype(np.uint8),\n",
    "    colormap=cv2.COLORMAP_RAINBOW,\n",
    ").squeeze()\n",
    "\n",
    "fig, ax = plt.subplots(figsize=(16, 8))\n",
    "ax.bar(configs, results, color=bar_colors/ 255.0)\n",
    "\n",
    "ax.set_ylabel(\"FPS\")\n",
    "ax.set_title(\"Performance difference\")\n",
    "\n",
    "plt.xticks(rotation='vertical')\n",
    "plt.show()"
   ]
  },
  {
   "cell_type": "code",
   "execution_count": null,
   "id": "2138dba4-7a20-480d-8c4a-77b5731e06fb",
   "metadata": {},
   "outputs": [],
   "source": []
  },
  {
   "cell_type": "code",
   "execution_count": null,
   "id": "95e670cf-f91d-4144-b7cd-0a8d61a159bc",
   "metadata": {},
   "outputs": [],
   "source": []
  },
  {
   "cell_type": "code",
   "execution_count": null,
   "id": "f658aea2-3710-448e-8c33-2ce4437606bb",
   "metadata": {},
   "outputs": [],
   "source": []
  }
 ],
 "metadata": {
  "kernelspec": {
   "display_name": "Python 3 (ipykernel)",
   "language": "python",
   "name": "python3"
  },
  "language_info": {
   "codemirror_mode": {
    "name": "ipython",
    "version": 3
   },
   "file_extension": ".py",
   "mimetype": "text/x-python",
   "name": "python",
   "nbconvert_exporter": "python",
   "pygments_lexer": "ipython3",
   "version": "3.10.6"
  }
 },
 "nbformat": 4,
 "nbformat_minor": 5
}
