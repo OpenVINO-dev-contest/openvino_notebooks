{
 "cells": [
  {
   "attachments": {},
   "cell_type": "markdown",
   "id": "e5501f221fd5d19f",
   "metadata": {},
   "source": [
    "# Text-to-Image Generation with Stable Diffusion v2 and OpenVINO™\n",
    "\n",
    "Stable Diffusion v2 is the next generation of Stable Diffusion model a Text-to-Image latent diffusion model created by the researchers and engineers from [Stability AI](https://stability.ai/) and [LAION](https://laion.ai/). \n",
    "\n",
    "General diffusion models are machine learning systems that are trained to denoise random gaussian noise step by step, to get to a sample of interest, such as an image.\n",
    "Diffusion models have shown to achieve state-of-the-art results for generating image data. But one downside of diffusion models is that the reverse denoising process is slow. In addition, these models consume a lot of memory because they operate in pixel space, which becomes unreasonably expensive when generating high-resolution images. Therefore, it is challenging to train these models and also use them for inference. OpenVINO brings capabilities to run model inference on Intel hardware and opens the door to the fantastic world of diffusion models for everyone!\n",
    "\n",
    "In previous notebooks, we already discussed how to run [Text-to-Image generation and Image-to-Image generation using Stable Diffusion v1](../stable-diffusion-text-to-image/stable-diffusion-text-to-image.ipynb) and [controlling its generation process using ControlNet](./controlnet-stable-diffusion/controlnet-stable-diffusion.ipynb). Now is turn of Stable Diffusion v2.\n",
    "\n",
    "## Stable Diffusion v2: What’s new?\n",
    "\n",
    "The new stable diffusion model offers a bunch of new features inspired by the other models that have emerged since the introduction of the first iteration. Some of the features that can be found in the new model are:\n",
    "\n",
    "* The model comes with a new robust encoder, OpenCLIP, created by LAION and aided by Stability AI; this version v2 significantly enhances the produced photos over the V1 versions. \n",
    "* The model can now generate images in a 768x768 resolution, offering more information to be shown in the generated images.\n",
    "* The model finetuned with [v-objective](https://arxiv.org/abs/2202.00512). The v-parameterization is particularly useful for numerical stability throughout the diffusion process to enable progressive distillation for models. For models that operate at higher resolution, it is also discovered that the v-parameterization avoids color shifting artifacts that are known to affect high resolution diffusion models, and in the video setting it avoids temporal color shifting that sometimes appears with epsilon-prediction used in Stable Diffusion v1. \n",
    "* The model also comes with a new diffusion model capable of running upscaling on the images generated. Upscaled images can be adjusted up to 4 times the original image. Provided as separated model, for more details please check [stable-diffusion-x4-upscaler](https://huggingface.co/stabilityai/stable-diffusion-x4-upscaler)\n",
    "* The model comes with a new refined depth architecture capable of preserving context from prior generation layers in an image-to-image setting. This structure preservation helps generate images that preserving forms and shadow of objects, but with different content.\n",
    "* The model comes with an updated inpainting module built upon the previous model. This text-guided inpainting makes switching out parts in the image easier than before.\n",
    "\n",
    "This notebook demonstrates how to convert and run Stable Diffusion v2 model using OpenVINO.\n",
    "\n",
    "Notebook contains the following steps:\n",
    "\n",
    "1. Create PyTorch models pipeline using Diffusers library.\n",
    "2. Convert PyTorch models to OpenVINO IR format, using Optimum Intel API.\n",
    "3. Apply hybrid post-training quantization to UNet model with [NNCF](https://github.com/openvinotoolkit/nncf/).\n",
    "4. Run Stable Diffusion v2 Text-to-Image pipeline with OpenVINO GenAI.\n",
    "\n",
    "\n",
    "<img referrerpolicy=\"no-referrer-when-downgrade\" src=\"https://static.scarf.sh/a.png?x-pxid=5b5a4db0-7875-4bfb-bdbd-01698b5b1a77&file=notebooks/stable-diffusion-v2/stable-diffusion-v2-text-to-image.ipynb\" />\n"
   ]
  },
  {
   "attachments": {},
   "cell_type": "markdown",
   "id": "e2bceddde9f8d526",
   "metadata": {},
   "source": [
    "#### Table of contents:\n",
    "\n",
    "- [Prerequisites](#Prerequisites)\n",
    "- [Stable Diffusion v2 for Text-to-Image Generation](#Stable-Diffusion-v2-for-Text-to-Image-Generation)\n",
    "    - [Stable Diffusion in Diffusers library](#Stable-Diffusion-in-Diffusers-library)\n",
    "    - [Convert models to OpenVINO Intermediate representation (IR) format](#Convert-models-to-OpenVINO-Intermediate-representation-(IR)-format)\n",
    "- [Quantization](#Quantization)\n",
    "    - [Prepare calibration dataset](#Prepare-calibration-dataset)\n",
    "    - [Run Hybrid Model Quantization](#Run-Hybrid-Model-Quantization)\n",
    "- [Run Text-to-Image generation](#Run-Text-to-Image-generation)\n",
    "- [Interactive demo][#Interactive-demo]\n",
    "\n",
    "\n",
    "### Installation Instructions\n",
    "\n",
    "This is a self-contained example that relies solely on its own code.\n",
    "\n",
    "We recommend  running the notebook in a virtual environment. You only need a Jupyter server to start.\n",
    "For details, please refer to [Installation Guide](https://github.com/openvinotoolkit/openvino_notebooks/blob/latest/README.md#-installation-guide)."
   ]
  },
  {
   "attachments": {},
   "cell_type": "markdown",
   "id": "1a571d16e81bf3c4",
   "metadata": {},
   "source": [
    "## Prerequisites\n",
    "[back to top ⬆️](#Table-of-contents:)\n",
    "\n",
    "install required packages"
   ]
  },
  {
   "cell_type": "code",
   "execution_count": 1,
   "id": "6723fa8e346926b7",
   "metadata": {
    "ExecuteTime": {
     "end_time": "2024-02-13T13:29:10.765014Z",
     "start_time": "2024-02-13T13:29:08.472566Z"
    }
   },
   "outputs": [],
   "source": [
    "%pip install -q \"diffusers>=0.30.0\" \"datasets>=2.14.6\" tqdm \"gradio>=4.19\" \"torch>=2.1\" Pillow opencv-python --extra-index-url https://download.pytorch.org/whl/cpu\n",
    "%pip install -qU \"nncf>=2.15.0\"\n",
    "%pip install -q \"git+https://github.com/huggingface/optimum-intel.git\" --extra-index-url https://download.pytorch.org/whl/cpu\n",
    "%pip install -qU \"openvino>=2025.0.0\" \"openvino-tokenizers>=2025.0\" \"openvino-genai>=2025.0.0\""
   ]
  },
  {
   "attachments": {},
   "cell_type": "markdown",
   "id": "3c4a678aa7817277",
   "metadata": {},
   "source": [
    "## Stable Diffusion v2 for Text-to-Image Generation\n",
    "[back to top ⬆️](#Table-of-contents:)\n",
    "\n",
    "To start, let's look on Text-to-Image process for Stable Diffusion v2. We will use [Stable Diffusion v2-1](https://huggingface.co/stabilityai/stable-diffusion-2-1) model for these purposes. The main difference from Stable Diffusion v2 and Stable Diffusion v2.1 is usage of more data, more training, and less restrictive filtering of the dataset, that gives promising results for selecting wide range of input text prompts. More details about model can be found in [Stability AI blog post](https://stability.ai/blog/stablediffusion2-1-release7-dec-2022) and original model [repository](https://github.com/Stability-AI/stablediffusion)."
   ]
  },
  {
   "attachments": {},
   "cell_type": "markdown",
   "id": "a636f5007c3781e",
   "metadata": {},
   "source": [
    "## Convert models to OpenVINO Intermediate representation (IR) format\n",
    "[back to top ⬆️](#Table-of-contents:)\n",
    "\n",
    "Starting from 2023.0 release, OpenVINO supports PyTorch models directly via Model Conversion API. `ov.convert_model` function accepts instance of PyTorch model and example inputs for tracing and returns object of `ov.Model` class, ready to use or save on disk using `ov.save_model` function. \n",
    "\n",
    "\n",
    "The pipeline consists of three important parts:\n",
    "\n",
    "* Text Encoder to create condition to generate an image from a text prompt.\n",
    "* U-Net for step-by-step denoising latent image representation.\n",
    "* Autoencoder (VAE) for decoding latent space to image.\n",
    "\n",
    "To simplify model conversion process, we can use HuggingFace Optimum Intel integration accelerated by OpenVINO.\n",
    "\n",
    "### Export OpenVINO IR format model using the [Hugging Face Optimum](https://huggingface.co/docs/optimum/installation) library accelerated by OpenVINO integration.\n",
    "[back to top ⬆️](#Table-of-contents:)\n",
    "\n",
    "🤗 [Optimum Intel](https://huggingface.co/docs/optimum/intel/index) is the interface between the 🤗 [Transformers](https://huggingface.co/docs/transformers/index) and [Diffusers](https://huggingface.co/docs/diffusers/index) libraries and OpenVINO to accelerate end-to-end pipelines on Intel architectures. It provides ease-to-use cli interface for exporting models to [OpenVINO Intermediate Representation (IR)](https://docs.openvino.ai/2024/documentation/openvino-ir-format.html) format.\n",
    "\n",
    "The command bellow demonstrates basic command for model export with `optimum-cli`\n",
    "\n",
    "```bash\n",
    "optimum-cli export openvino --model <model_id_or_path> --task <task> <out_dir>\n",
    "```\n",
    "\n",
    "where `--model` argument is model id from HuggingFace Hub or local directory with model (saved using `.save_pretrained` method), `--task ` is one of [supported task](https://huggingface.co/docs/optimum/exporters/task_manager) that exported model should solve. For image generation models, `text-to-image` or `image-to-image` should be used (as pipeline components are the same, you can use converted models for both text-to-image and image-to-image generation. There is no need to convert models twice). If model initialization requires to use remote code, `--trust-remote-code` flag additionally should be passed.\n",
    "You can also apply fp16, 8-bit or 4-bit weight compression on the Linear, Convolutional and Embedding layers when exporting your model with the CLI by setting `--weight-format` to respectively fp16, int8 or int4. This type of optimization allows to reduce the memory footprint and inference latency.\n",
    "\n",
    "We will use `optimum_cli` from our helper `cmd_helper.py` that is a wrapper over cli-command.\n",
    "\n",
    "### Use optimized models provided on HuggingFace Hub\n",
    "[back to top ⬆️](#Table-of-contents:)\n",
    "\n",
    "For quick start, OpenVINO provides [collection](https://huggingface.co/collections/OpenVINO/image-generation-67697d9952fb1eee4a252aa8) of optimized models that are ready to use with OpenVINO GenAI. You can download them using following command:\n",
    "\n",
    "```bash\n",
    "huggingface-cli download <model_id> --local-dir <output_dir>\n",
    "```"
   ]
  },
  {
   "cell_type": "code",
   "execution_count": 2,
   "id": "a339c1c8",
   "metadata": {},
   "outputs": [
    {
     "name": "stderr",
     "output_type": "stream",
     "text": [
      "<frozen importlib.util>:247: DeprecationWarning: The `openvino.runtime` module is deprecated and will be removed in the 2026.0 release. Please replace `openvino.runtime` with `openvino`.\n"
     ]
    }
   ],
   "source": [
    "import requests\n",
    "from pathlib import Path\n",
    "\n",
    "if not Path(\"notebook_utils.py\").exists():\n",
    "    r = requests.get(\n",
    "        url=\"https://raw.githubusercontent.com/openvinotoolkit/openvino_notebooks/latest/utils/notebook_utils.py\",\n",
    "    )\n",
    "    open(\"notebook_utils.py\", \"w\").write(r.text)\n",
    "\n",
    "\n",
    "if not Path(\"cmd_helper.py\").exists():\n",
    "    r = requests.get(\n",
    "        url=\"https://raw.githubusercontent.com/openvinotoolkit/openvino_notebooks/latest/utils/cmd_helper.py\",\n",
    "    )\n",
    "    open(\"cmd_helper.py\", \"w\").write(r.text)\n",
    "\n",
    "# Read more about telemetry collection at https://github.com/openvinotoolkit/openvino_notebooks?tab=readme-ov-file#-telemetry\n",
    "from notebook_utils import collect_telemetry\n",
    "\n",
    "collect_telemetry(\"stable-diffusion-v2-text-to-image.ipynb\")"
   ]
  },
  {
   "cell_type": "code",
   "execution_count": 3,
   "id": "2fa389f1",
   "metadata": {},
   "outputs": [],
   "source": [
    "from cmd_helper import optimum_cli\n",
    "\n",
    "model_id = \"stabilityai/stable-diffusion-2-1\"\n",
    "model_dir = Path(\"sd2.1/\")\n",
    "if not (model_dir / \"FP16\").exists():\n",
    "    additional_args = {\"weight-format\": \"fp16\"}\n",
    "    optimum_cli(model_id, model_dir / \"FP16\", additional_args=additional_args)"
   ]
  },
  {
   "attachments": {},
   "cell_type": "markdown",
   "id": "7508a4ed-b3eb-48ba-a9a5-f2cd4fecc934",
   "metadata": {},
   "source": [
    "[NNCF](https://github.com/openvinotoolkit/nncf/) enables post-training quantization by adding quantization layers into model graph and then using a subset of the training dataset to initialize the parameters of these additional quantization layers. Quantized operations are executed in `INT8` instead of `FP32`/`FP16` making model inference faster.\n",
    "\n",
    "According to `Stable Diffusion v2` structure, the UNet model takes up significant portion of the overall pipeline execution time. Now we will show you how to optimize the UNet part using [NNCF](https://github.com/openvinotoolkit/nncf/) to reduce computation cost and speed up the pipeline. Quantizing the rest of the pipeline does not significantly improve inference performance but can lead to a substantial degradation of accuracy.\n",
    "\n",
    "For this model we apply quantization in hybrid mode which means that we quantize: (1) weights of MatMul and Embedding layers and (2) activations of other layers. The steps are the following:\n",
    "\n",
    "1. Create a calibration dataset for quantization.\n",
    "2. Collect operations with weights.\n",
    "3. Run `nncf.compress_model()` to compress only the model weights.\n",
    "4. Run `nncf.quantize()` on the compressed model with weighted operations ignored by providing `ignored_scope` parameter.\n",
    "5. Save the `INT8` model using `openvino.save_model()` function.\n",
    "\n",
    "Please select below whether you would like to run quantization to improve model inference speed.\n",
    "\n",
    "> **NOTE**: Quantization is time and memory consuming operation. Running quantization code below may take some time."
   ]
  },
  {
   "cell_type": "code",
   "execution_count": 4,
   "id": "0afb03cb-d476-4bf3-b751-c67ee3d65a14",
   "metadata": {},
   "outputs": [
    {
     "data": {
      "application/vnd.jupyter.widget-view+json": {
       "model_id": "927c70a081f74e738c5a70edea69f9df",
       "version_major": 2,
       "version_minor": 0
      },
      "text/plain": [
       "Checkbox(value=True, description='Quantization')"
      ]
     },
     "execution_count": 4,
     "metadata": {},
     "output_type": "execute_result"
    }
   ],
   "source": [
    "from notebook_utils import quantization_widget\n",
    "\n",
    "to_quantize = quantization_widget()\n",
    "\n",
    "to_quantize"
   ]
  },
  {
   "cell_type": "code",
   "execution_count": 5,
   "id": "a06478bf-285f-46c8-971b-d1b983e54c9a",
   "metadata": {},
   "outputs": [],
   "source": [
    "import shutil\n",
    "import os\n",
    "import openvino as ov\n",
    "\n",
    "model_dir_fp16 = model_dir / \"FP16\"\n",
    "model_dir_int8 = model_dir / \"INT8\"\n",
    "UNET_INT8_OV_PATH = model_dir_int8 / \"unet\" / \"openvino_model.xml\"\n",
    "\n",
    "UNET_OV_PATH = model_dir / \"FP16/unet/openvino_model.xml\"\n",
    "\n",
    "\n",
    "if to_quantize.value and not model_dir_int8.exists():\n",
    "    shutil.copytree(model_dir_fp16, model_dir_int8)\n",
    "    os.remove(UNET_INT8_OV_PATH)  # remove to replace by optimized\n",
    "    os.remove(UNET_INT8_OV_PATH.with_suffix(\".bin\"))\n",
    "\n",
    "if not Path(\"skip_kernel_extension.py\").exists():\n",
    "    r = requests.get(\n",
    "        url=\"https://raw.githubusercontent.com/openvinotoolkit/openvino_notebooks/latest/utils/skip_kernel_extension.py\",\n",
    "    )\n",
    "    open(\"skip_kernel_extension.py\", \"w\").write(r.text)\n",
    "\n",
    "int8_pipe = None\n",
    "\n",
    "core = ov.Core()\n",
    "\n",
    "%load_ext skip_kernel_extension"
   ]
  },
  {
   "cell_type": "code",
   "execution_count": 6,
   "id": "474166a1-5892-49df-a8d5-0b45284d0a3d",
   "metadata": {},
   "outputs": [],
   "source": [
    "%%skip not $to_quantize.value\n",
    "\n",
    "\n",
    "def disable_progress_bar(pipeline, disable=True):\n",
    "    if not hasattr(pipeline, \"_progress_bar_config\"):\n",
    "        pipeline._progress_bar_config = {\"disable\": disable}\n",
    "    else:\n",
    "        pipeline._progress_bar_config[\"disable\"] = disable\n"
   ]
  },
  {
   "attachments": {},
   "cell_type": "markdown",
   "id": "cf069f82-7222-4f97-8fa3-4ce768abce78",
   "metadata": {},
   "source": [
    "### Prepare calibration dataset\n",
    "[back to top ⬆️](#Table-of-contents:)\n",
    "\n",
    "We use a portion of [conceptual_captions](https://huggingface.co/datasets/google-research-datasets/conceptual_captions) dataset from Hugging Face as calibration data.\n",
    "To collect intermediate model inputs for calibration we should customize `CompiledModel`."
   ]
  },
  {
   "cell_type": "code",
   "execution_count": 7,
   "id": "6b70695b-e8ae-40d5-bc62-d14e0c1a8201",
   "metadata": {},
   "outputs": [
    {
     "name": "stderr",
     "output_type": "stream",
     "text": [
      "2025-02-10 10:13:13.528945: I tensorflow/core/util/port.cc:153] oneDNN custom operations are on. You may see slightly different numerical results due to floating-point round-off errors from different computation orders. To turn them off, set the environment variable `TF_ENABLE_ONEDNN_OPTS=0`.\n",
      "2025-02-10 10:13:13.540845: E external/local_xla/xla/stream_executor/cuda/cuda_fft.cc:477] Unable to register cuFFT factory: Attempting to register factory for plugin cuFFT when one has already been registered\n",
      "WARNING: All log messages before absl::InitializeLog() is called are written to STDERR\n",
      "E0000 00:00:1739167993.555279 1105535 cuda_dnn.cc:8310] Unable to register cuDNN factory: Attempting to register factory for plugin cuDNN when one has already been registered\n",
      "E0000 00:00:1739167993.559235 1105535 cuda_blas.cc:1418] Unable to register cuBLAS factory: Attempting to register factory for plugin cuBLAS when one has already been registered\n",
      "2025-02-10 10:13:13.574450: I tensorflow/core/platform/cpu_feature_guard.cc:210] This TensorFlow binary is optimized to use available CPU instructions in performance-critical operations.\n",
      "To enable the following instructions: AVX2 AVX512F AVX512_VNNI FMA, in other operations, rebuild TensorFlow with the appropriate compiler flags.\n"
     ]
    }
   ],
   "source": [
    "%%skip not $to_quantize.value\n",
    "\n",
    "import datasets\n",
    "import numpy as np\n",
    "from tqdm.notebook import tqdm\n",
    "from transformers import set_seed\n",
    "from typing import Any, Dict, List\n",
    "\n",
    "set_seed(1)\n",
    "\n",
    "class CompiledModelDecorator(ov.CompiledModel):\n",
    "    def __init__(self, compiled_model: ov.CompiledModel, data_cache: List[Any] = None):\n",
    "        super().__init__(compiled_model)\n",
    "        self.data_cache = data_cache if data_cache else []\n",
    "\n",
    "    def __call__(self, *args, **kwargs):\n",
    "        self.data_cache.append(*args)\n",
    "        return super().__call__(*args, **kwargs)\n",
    "\n",
    "def collect_calibration_data(pipe, subset_size: int) -> List[Dict]:\n",
    "    original_unet = pipe.unet.request\n",
    "    pipe.unet.request = CompiledModelDecorator(original_unet)\n",
    "\n",
    "    dataset = datasets.load_dataset(\"google-research-datasets/conceptual_captions\", split=\"train\", trust_remote_code=True).shuffle(seed=42)\n",
    "    disable_progress_bar(pipe)\n",
    "\n",
    "    # Run inference for data collection\n",
    "    pbar = tqdm(total=subset_size)\n",
    "    diff = 0\n",
    "    for batch in dataset:\n",
    "        prompt = batch[\"caption\"]\n",
    "        if len(prompt) > pipe.tokenizer.model_max_length:\n",
    "            continue\n",
    "        _ = pipe(\n",
    "            prompt,\n",
    "            num_inference_steps=50,\n",
    "            height=512,\n",
    "            width=512,\n",
    "            guidance_scale=0.0,\n",
    "            generator=np.random.RandomState(987)\n",
    "        )\n",
    "        collected_subset_size = len(pipe.unet.request.data_cache)\n",
    "        if collected_subset_size >= subset_size:\n",
    "            pbar.update(subset_size - pbar.n)\n",
    "            break\n",
    "        pbar.update(collected_subset_size - diff)\n",
    "        diff = collected_subset_size\n",
    "\n",
    "    calibration_dataset = pipe.unet.request.data_cache\n",
    "    disable_progress_bar(pipe, disable=False)\n",
    "    pipe.unet.request = original_unet\n",
    "    return calibration_dataset\n"
   ]
  },
  {
   "attachments": {},
   "cell_type": "markdown",
   "id": "a0d8d426-f2c4-46a1-9b10-a861fe8b98f6",
   "metadata": {},
   "source": [
    "### Run Hybrid Model Quantization\n",
    "[back to top ⬆️](#Table-of-contents:)"
   ]
  },
  {
   "cell_type": "code",
   "execution_count": 8,
   "id": "3471c87a-4616-4c74-b2cf-3de7670c3939",
   "metadata": {},
   "outputs": [],
   "source": [
    "%%skip not $to_quantize.value\n",
    "\n",
    "from optimum.intel.openvino import OVStableDiffusionPipeline\n",
    "from collections import deque\n",
    "import nncf\n",
    "import gc\n",
    "\n",
    "\n",
    "def get_operation_const_op(operation, const_port_id: int):\n",
    "    node = operation.input_value(const_port_id).get_node()\n",
    "    queue = deque([node])\n",
    "    constant_node = None\n",
    "    allowed_propagation_types_list = [\"Convert\", \"FakeQuantize\", \"Reshape\"]\n",
    "\n",
    "    while len(queue) != 0:\n",
    "        curr_node = queue.popleft()\n",
    "        if curr_node.get_type_name() == \"Constant\":\n",
    "            constant_node = curr_node\n",
    "            break\n",
    "        if len(curr_node.inputs()) == 0:\n",
    "            break\n",
    "        if curr_node.get_type_name() in allowed_propagation_types_list:\n",
    "            queue.append(curr_node.input_value(0).get_node())\n",
    "\n",
    "    return constant_node\n",
    "\n",
    "\n",
    "def is_embedding(node) -> bool:\n",
    "    allowed_types_list = [\"f16\", \"f32\", \"f64\"]\n",
    "    const_port_id = 0\n",
    "    input_tensor = node.input_value(const_port_id)\n",
    "    if input_tensor.get_element_type().get_type_name() in allowed_types_list:\n",
    "        const_node = get_operation_const_op(node, const_port_id)\n",
    "        if const_node is not None:\n",
    "            return True\n",
    "\n",
    "    return False\n",
    "\n",
    "\n",
    "def collect_ops_with_weights(model):\n",
    "    ops_with_weights = []\n",
    "    for op in model.get_ops():\n",
    "        if op.get_type_name() == \"MatMul\":\n",
    "            constant_node_0 = get_operation_const_op(op, const_port_id=0)\n",
    "            constant_node_1 = get_operation_const_op(op, const_port_id=1)\n",
    "            if constant_node_0 or constant_node_1:\n",
    "                ops_with_weights.append(op.get_friendly_name())\n",
    "        if op.get_type_name() == \"Gather\" and is_embedding(op):\n",
    "            ops_with_weights.append(op.get_friendly_name())\n",
    "\n",
    "    return ops_with_weights\n",
    "\n",
    "\n",
    "if not UNET_INT8_OV_PATH.exists():\n",
    "    ov_pipe = OVStableDiffusionPipeline.from_pretrained(model_dir / \"FP16\")\n",
    "    calibration_dataset_size = 300\n",
    "    set_seed(1)\n",
    "    unet_calibration_data = collect_calibration_data(ov_pipe,\n",
    "                                                     calibration_dataset_size)\n",
    "    del ov_pipe\n",
    "    gc.collect()\n",
    "\n",
    "    unet = core.read_model(UNET_OV_PATH)\n",
    "    \n",
    "    # Collect operations which weights will be compressed\n",
    "    unet_ignored_scope = collect_ops_with_weights(unet)\n",
    "    \n",
    "    # Compress model weights\n",
    "    compressed_unet = nncf.compress_weights(unet, ignored_scope=nncf.IgnoredScope(types=['Convolution']))\n",
    "    \n",
    "    # Quantize both weights and activations of Convolution layers\n",
    "    quantized_unet = nncf.quantize(\n",
    "        model=compressed_unet,\n",
    "        calibration_dataset=nncf.Dataset(unet_calibration_data),\n",
    "        subset_size=calibration_dataset_size,\n",
    "        model_type=nncf.ModelType.TRANSFORMER,\n",
    "        ignored_scope=nncf.IgnoredScope(names=unet_ignored_scope),\n",
    "        advanced_parameters=nncf.AdvancedQuantizationParameters(smooth_quant_alpha=-1)\n",
    "    )\n",
    "    \n",
    "    ov.save_model(quantized_unet, UNET_INT8_OV_PATH)\n"
   ]
  },
  {
   "attachments": {},
   "cell_type": "markdown",
   "id": "a0247cdc-b7bb-45ad-bad6-d4870fc818ed",
   "metadata": {},
   "source": [
    "### Compare UNet file size"
   ]
  },
  {
   "cell_type": "code",
   "execution_count": 9,
   "id": "b05428e9-1712-4139-a60e-dbfafa45f284",
   "metadata": {},
   "outputs": [
    {
     "name": "stdout",
     "output_type": "stream",
     "text": [
      "FP16 model size: 1691232.64 KB\n",
      "INT8 model size: 847041.08 KB\n",
      "Model compression rate: 1.997\n"
     ]
    }
   ],
   "source": [
    "if UNET_INT8_OV_PATH.exists():\n",
    "    fp16_ir_model_size = UNET_OV_PATH.with_suffix(\".bin\").stat().st_size / 1024\n",
    "    quantized_model_size = UNET_INT8_OV_PATH.with_suffix(\".bin\").stat().st_size / 1024\n",
    "\n",
    "    print(f\"FP16 model size: {fp16_ir_model_size:.2f} KB\")\n",
    "    print(f\"INT8 model size: {quantized_model_size:.2f} KB\")\n",
    "    print(f\"Model compression rate: {fp16_ir_model_size / quantized_model_size:.3f}\")"
   ]
  },
  {
   "attachments": {},
   "cell_type": "markdown",
   "id": "2009916bbc6c3ec8",
   "metadata": {},
   "source": [
    "## Prepare Inference Pipeline\n",
    "[back to top ⬆️](#Table-of-contents:)\n",
    "\n",
    "Putting it all together, let us now take a closer look at how the model works in inference by illustrating the logical flow.\n",
    "\n",
    "![text2img-stable-diffusion v2](https://github.com/openvinotoolkit/openvino_notebooks/assets/22090501/ec454103-0d28-48e3-a18e-b55da3fab381)\n",
    "\n",
    "The stable diffusion model takes both a latent seed and a text prompt as input. The latent seed is then used to generate random latent image representations of size $96 \\times 96$ where as the text prompt is transformed to text embeddings of size $77 \\times 1024$ via OpenCLIP's text encoder.\n",
    "\n",
    "Next, the U-Net iteratively *denoises* the random latent image representations while being conditioned on the text embeddings. The output of the U-Net, being the noise residual, is used to compute a denoised latent image representation via a scheduler algorithm. Many different scheduler algorithms can be used for this computation, each having its pros and cons. For Stable Diffusion, it is recommended to use one of:\n",
    "\n",
    "- [PNDM scheduler](https://github.com/huggingface/diffusers/blob/main/src/diffusers/schedulers/scheduling_pndm.py)\n",
    "- [DDIM scheduler](https://github.com/huggingface/diffusers/blob/main/src/diffusers/schedulers/scheduling_ddim.py)\n",
    "- [K-LMS scheduler](https://github.com/huggingface/diffusers/blob/main/src/diffusers/schedulers/scheduling_lms_discrete.py)\n",
    "\n",
    "Theory on how the scheduler algorithm function works is out of scope for this notebook, but in short, you should remember that they compute the predicted denoised image representation from the previous noise representation and the predicted noise residual.\n",
    "For more information, it is recommended to look into [Elucidating the Design Space of Diffusion-Based Generative Models](https://arxiv.org/abs/2206.00364).\n",
    "\n",
    "\n",
    "The chart above looks very similar to Stable Diffusion V1 from [notebook](../stable-diffusion-text-to-image/stable-diffusion-text-to-image.ipynb), but there is some small difference in details:\n",
    "\n",
    "* Changed input resolution for U-Net model.\n",
    "* Changed text encoder and as the result size of its hidden state embeddings.\n",
    "* Additionally, to improve image generation quality authors introduced negative prompting. Technically, positive prompt steers the diffusion toward the images associated with it, while negative prompt steers the diffusion away from it.In other words, negative prompt declares undesired concepts for generation image, e.g. if we want to have colorful and bright image, gray scale image will be result which we want to avoid, in this case gray scale can be treated as negative prompt. The positive and negative prompt are in equal footing. You can always use one with or without the other. More explanation of how it works can be found in this [article](https://stable-diffusion-art.com/how-negative-prompt-work/).\n",
    "\n",
    "### OpenVINO GenAI Text2ImagePipeline\n",
    "\n",
    "[OpenVINO™ GenAI](https://github.com/openvinotoolkit/openvino.genai) is a library of the most popular Generative AI model pipelines, optimized execution methods, and samples that run on top of highly performant OpenVINO Runtime.\n",
    "\n",
    "This library is friendly to PC and laptop execution, and optimized for resource consumption. It requires no external dependencies to run generative models as it already includes all the core functionality (e.g. tokenization via openvino-tokenizers).\n",
    "\n",
    "OpenVINO GenAI supports popular diffusion models like Stable Diffusion or SDXL for performing image generation. You can find supported models list in [OpenVINO GenAI documentation](https://github.com/openvinotoolkit/openvino.genai/blob/master/SUPPORTED_MODELS.md#image-generation-models).\n",
    "\n",
    "For performing text-to-image generation, we can use `openvino_genai.Text2ImagePipeline`. For creation pipeline instance, you should provide directory with converted to OpenVINO model and inference device.\n"
   ]
  },
  {
   "cell_type": "code",
   "execution_count": 10,
   "id": "ba60aaf6be593f39",
   "metadata": {
    "ExecuteTime": {
     "end_time": "2024-02-13T13:30:16.082794Z",
     "start_time": "2024-02-13T13:30:16.032084Z"
    }
   },
   "outputs": [
    {
     "data": {
      "application/vnd.jupyter.widget-view+json": {
       "model_id": "b23819ca7a4f4f388da249039d7d8320",
       "version_major": 2,
       "version_minor": 0
      },
      "text/plain": [
       "Dropdown(description='Device:', index=1, options=('CPU', 'AUTO'), value='AUTO')"
      ]
     },
     "execution_count": 10,
     "metadata": {},
     "output_type": "execute_result"
    }
   ],
   "source": [
    "from notebook_utils import device_widget\n",
    "\n",
    "device = device_widget()\n",
    "\n",
    "device"
   ]
  },
  {
   "attachments": {},
   "cell_type": "markdown",
   "id": "0e9ca9e6-e6db-4698-9d47-1d05abf16bbc",
   "metadata": {},
   "source": [
    "Please select below whether you would like to use the quantized model to launch the interactive demo."
   ]
  },
  {
   "cell_type": "code",
   "execution_count": 11,
   "id": "19f1d5bf-f769-4075-8d05-4134d04c3edf",
   "metadata": {},
   "outputs": [
    {
     "data": {
      "application/vnd.jupyter.widget-view+json": {
       "model_id": "e70003a7c5274e31a37576ba587dc2cf",
       "version_major": 2,
       "version_minor": 0
      },
      "text/plain": [
       "Checkbox(value=True, description='Use quantized model')"
      ]
     },
     "execution_count": 11,
     "metadata": {},
     "output_type": "execute_result"
    }
   ],
   "source": [
    "import ipywidgets as widgets\n",
    "\n",
    "quantized_model_present = UNET_INT8_OV_PATH.exists()\n",
    "\n",
    "use_quantized_model = widgets.Checkbox(\n",
    "    value=quantized_model_present,\n",
    "    description=\"Use quantized model\",\n",
    "    disabled=not quantized_model_present,\n",
    ")\n",
    "\n",
    "use_quantized_model"
   ]
  },
  {
   "cell_type": "code",
   "execution_count": 12,
   "id": "ab277c23095fa5a7",
   "metadata": {
    "ExecuteTime": {
     "end_time": "2024-02-13T13:30:19.234103Z",
     "start_time": "2024-02-13T13:30:16.326662Z"
    }
   },
   "outputs": [
    {
     "name": "stdout",
     "output_type": "stream",
     "text": [
      "\n"
     ]
    }
   ],
   "source": [
    "import openvino_genai as ov_genai\n",
    "from PIL import Image\n",
    "from tqdm.notebook import tqdm\n",
    "import sys\n",
    "\n",
    "ov_pipe = ov_genai.Text2ImagePipeline(model_dir_int8 if use_quantized_model.value else model_dir_fp16, device.value)"
   ]
  },
  {
   "attachments": {},
   "cell_type": "markdown",
   "id": "3b7f93ec1bd55a2f",
   "metadata": {},
   "source": [
    "## Run Text-to-Image generation\n",
    "[back to top ⬆️](#Table-of-contents:)\n",
    "\n",
    "Now, you can define a text prompts for image generation and run inference pipeline.\n",
    "Optionally, you can also change the random generator seed for latent state initialization and number of steps.\n",
    "\n",
    "> **Note**: Consider increasing `steps` to get more precise results. A suggested value is `50`, but it will take longer time to process."
   ]
  },
  {
   "attachments": {},
   "cell_type": "markdown",
   "id": "cd89fdab77ca1f8c",
   "metadata": {},
   "source": [
    "Please select below whether you would like to use the quantized model to launch the interactive demo."
   ]
  },
  {
   "cell_type": "code",
   "execution_count": null,
   "id": "edd734469b49f2f8",
   "metadata": {
    "ExecuteTime": {
     "end_time": "2024-02-13T14:44:53.376186Z",
     "start_time": "2024-02-13T14:44:53.371802Z"
    }
   },
   "outputs": [
    {
     "data": {
      "application/vnd.jupyter.widget-view+json": {
       "model_id": "07483705110c40b1ac4b71da74f10bcc",
       "version_major": 2,
       "version_minor": 0
      },
      "text/plain": [
       "  0%|          | 0/20 [00:00<?, ?it/s]"
      ]
     },
     "metadata": {},
     "output_type": "display_data"
    }
   ],
   "source": [
    "prompt = \"valley in the Alps at sunset, epic vista, beautiful landscape, 4k, 8k\"\n",
    "\n",
    "random_generator = ov_genai.TorchGenerator(42)\n",
    "\n",
    "pbar = tqdm(total=20)\n",
    "\n",
    "\n",
    "def callback(step, num_steps, latent):\n",
    "    if num_steps != pbar.total:\n",
    "        pbar.reset(num_steps)\n",
    "    pbar.update(1)\n",
    "    sys.stdout.flush()\n",
    "    return False\n",
    "\n",
    "\n",
    "result = ov_pipe.generate(prompt, num_inference_steps=20, generator=random_generator, callback=callback, height=512, width=512)\n",
    "\n",
    "pbar.close()\n",
    "\n",
    "final_image = Image.fromarray(result.data[0])\n",
    "\n",
    "final_image"
   ]
  },
  {
   "attachments": {},
   "cell_type": "markdown",
   "id": "40e16561",
   "metadata": {},
   "source": [
    "## Interactive demo\n",
    "[back to top ⬆️](#Table-of-contents:)"
   ]
  },
  {
   "cell_type": "code",
   "execution_count": null,
   "id": "f1136e88de27fec2",
   "metadata": {
    "ExecuteTime": {
     "end_time": "2024-02-13T14:44:55.067276Z",
     "start_time": "2024-02-13T14:44:53.376929Z"
    }
   },
   "outputs": [],
   "source": [
    "if not Path(\"gradio_helper.py\").exists():\n",
    "    r = requests.get(url=\"https://raw.githubusercontent.com/openvinotoolkit/openvino_notebooks/latest/notebooks/stable-diffusion-v2/gradio_helper.py\")\n",
    "    open(\"gradio_helper.py\", \"w\").write(r.text)\n",
    "\n",
    "from gradio_helper import make_demo\n",
    "\n",
    "demo = make_demo(ov_pipe)\n",
    "\n",
    "try:\n",
    "    demo.queue().launch(debug=True)\n",
    "except Exception:\n",
    "    demo.queue().launch(share=True, debug=True)\n",
    "# if you are launching remotely, specify server_name and server_port\n",
    "# demo.launch(server_name='your server name', server_port='server port in int')\n",
    "# Read more in the docs: https://gradio.app/docs/"
   ]
  }
 ],
 "metadata": {
  "kernelspec": {
   "display_name": "Python 3 (ipykernel)",
   "language": "python",
   "name": "python3"
  },
  "language_info": {
   "codemirror_mode": {
    "name": "ipython",
    "version": 3
   },
   "file_extension": ".py",
   "mimetype": "text/x-python",
   "name": "python",
   "nbconvert_exporter": "python",
   "pygments_lexer": "ipython3",
   "version": "3.11.4"
  },
  "openvino_notebooks": {
   "imageUrl": "https://github.com/user-attachments/assets/0801b0b6-f376-46b3-b874-c91aaf2c3695",
   "tags": {
    "categories": [
     "Model Demos",
     "AI Trends"
    ],
    "libraries": [],
    "other": [
     "Stable Diffusion"
    ],
    "tasks": [
     "Text-to-Image"
    ]
   }
  },
  "widgets": {
   "application/vnd.jupyter.widget-state+json": {
    "state": {
     "07483705110c40b1ac4b71da74f10bcc": {
      "model_module": "@jupyter-widgets/controls",
      "model_module_version": "2.0.0",
      "model_name": "HBoxModel",
      "state": {
       "children": [
        "IPY_MODEL_ccc5b062c89d4c639eac2b491ec7fea1",
        "IPY_MODEL_6af38710c55a4abfb1cb7f7fcba91411",
        "IPY_MODEL_8a9952b027fa4c5baea24cf049f8ae99"
       ],
       "layout": "IPY_MODEL_0eea552a2b74424d8732e2286389b934"
      }
     },
     "0eea552a2b74424d8732e2286389b934": {
      "model_module": "@jupyter-widgets/base",
      "model_module_version": "2.0.0",
      "model_name": "LayoutModel",
      "state": {}
     },
     "1208f652361a4a4bb49ddfc002cef1c7": {
      "model_module": "@jupyter-widgets/controls",
      "model_module_version": "2.0.0",
      "model_name": "ProgressStyleModel",
      "state": {
       "description_width": ""
      }
     },
     "40613ecdb86f416c9346345f2bdca100": {
      "model_module": "@jupyter-widgets/base",
      "model_module_version": "2.0.0",
      "model_name": "LayoutModel",
      "state": {}
     },
     "4131d63fb31c4b3d8617736c7d98c2a5": {
      "model_module": "@jupyter-widgets/controls",
      "model_module_version": "2.0.0",
      "model_name": "CheckboxStyleModel",
      "state": {
       "description_width": ""
      }
     },
     "5e8acb1cfbe649608b3943c6368b8271": {
      "model_module": "@jupyter-widgets/base",
      "model_module_version": "2.0.0",
      "model_name": "LayoutModel",
      "state": {}
     },
     "6af38710c55a4abfb1cb7f7fcba91411": {
      "model_module": "@jupyter-widgets/controls",
      "model_module_version": "2.0.0",
      "model_name": "FloatProgressModel",
      "state": {
       "layout": "IPY_MODEL_8e9b0e485fa848a69989b32217619ea7",
       "max": 20,
       "style": "IPY_MODEL_1208f652361a4a4bb49ddfc002cef1c7",
       "value": 18
      }
     },
     "6b6a8800ed08414f9f25a56838129da2": {
      "model_module": "@jupyter-widgets/controls",
      "model_module_version": "2.0.0",
      "model_name": "CheckboxStyleModel",
      "state": {
       "description_width": ""
      }
     },
     "83e959bf7d35439ab7a0d4bd94c17793": {
      "model_module": "@jupyter-widgets/controls",
      "model_module_version": "2.0.0",
      "model_name": "HTMLStyleModel",
      "state": {
       "description_width": "",
       "font_size": null,
       "text_color": null
      }
     },
     "8a9952b027fa4c5baea24cf049f8ae99": {
      "model_module": "@jupyter-widgets/controls",
      "model_module_version": "2.0.0",
      "model_name": "HTMLModel",
      "state": {
       "layout": "IPY_MODEL_e60bf05bf8ac4488a9e5672add702032",
       "style": "IPY_MODEL_ea49098a4ac74285999c8ffdc2d7f180",
       "value": " 18/20 [01:04&lt;00:06,  3.50s/it]"
      }
     },
     "8e9b0e485fa848a69989b32217619ea7": {
      "model_module": "@jupyter-widgets/base",
      "model_module_version": "2.0.0",
      "model_name": "LayoutModel",
      "state": {}
     },
     "923deb552edb478ebedf4b71b0adac0a": {
      "model_module": "@jupyter-widgets/base",
      "model_module_version": "2.0.0",
      "model_name": "LayoutModel",
      "state": {}
     },
     "927c70a081f74e738c5a70edea69f9df": {
      "model_module": "@jupyter-widgets/controls",
      "model_module_version": "2.0.0",
      "model_name": "CheckboxModel",
      "state": {
       "description": "Quantization",
       "disabled": false,
       "layout": "IPY_MODEL_923deb552edb478ebedf4b71b0adac0a",
       "style": "IPY_MODEL_6b6a8800ed08414f9f25a56838129da2",
       "value": true
      }
     },
     "956c37323dd84629871ef2b4e0b5d9be": {
      "model_module": "@jupyter-widgets/base",
      "model_module_version": "2.0.0",
      "model_name": "LayoutModel",
      "state": {}
     },
     "adc60034caf74154a9216db4814fd082": {
      "model_module": "@jupyter-widgets/controls",
      "model_module_version": "2.0.0",
      "model_name": "DescriptionStyleModel",
      "state": {
       "description_width": ""
      }
     },
     "b23819ca7a4f4f388da249039d7d8320": {
      "model_module": "@jupyter-widgets/controls",
      "model_module_version": "2.0.0",
      "model_name": "DropdownModel",
      "state": {
       "_options_labels": [
        "CPU",
        "AUTO"
       ],
       "description": "Device:",
       "index": 1,
       "layout": "IPY_MODEL_5e8acb1cfbe649608b3943c6368b8271",
       "style": "IPY_MODEL_adc60034caf74154a9216db4814fd082"
      }
     },
     "ccc5b062c89d4c639eac2b491ec7fea1": {
      "model_module": "@jupyter-widgets/controls",
      "model_module_version": "2.0.0",
      "model_name": "HTMLModel",
      "state": {
       "layout": "IPY_MODEL_40613ecdb86f416c9346345f2bdca100",
       "style": "IPY_MODEL_83e959bf7d35439ab7a0d4bd94c17793",
       "value": " 90%"
      }
     },
     "e60bf05bf8ac4488a9e5672add702032": {
      "model_module": "@jupyter-widgets/base",
      "model_module_version": "2.0.0",
      "model_name": "LayoutModel",
      "state": {}
     },
     "e70003a7c5274e31a37576ba587dc2cf": {
      "model_module": "@jupyter-widgets/controls",
      "model_module_version": "2.0.0",
      "model_name": "CheckboxModel",
      "state": {
       "description": "Use quantized model",
       "disabled": false,
       "layout": "IPY_MODEL_956c37323dd84629871ef2b4e0b5d9be",
       "style": "IPY_MODEL_4131d63fb31c4b3d8617736c7d98c2a5",
       "value": true
      }
     },
     "ea49098a4ac74285999c8ffdc2d7f180": {
      "model_module": "@jupyter-widgets/controls",
      "model_module_version": "2.0.0",
      "model_name": "HTMLStyleModel",
      "state": {
       "description_width": "",
       "font_size": null,
       "text_color": null
      }
     }
    },
    "version_major": 2,
    "version_minor": 0
   }
  }
 },
 "nbformat": 4,
 "nbformat_minor": 5
}
