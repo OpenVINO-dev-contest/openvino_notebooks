{
 "cells": [
  {
   "cell_type": "code",
   "execution_count": null,
   "id": "a1b89a21-9cbc-492e-8df1-8c578b53d667",
   "metadata": {},
   "outputs": [],
   "source": []
  },
  {
   "cell_type": "code",
   "execution_count": null,
   "id": "86fdc4ba-74c4-4869-898e-131f47827e8f",
   "metadata": {},
   "outputs": [],
   "source": [
    "from pathlib import Path\n",
    "\n",
    "model_id = \"microsoft/Phi-3-mini-4k-instruct\"\n",
    "model_path = \"Phi-3-mini-4k-instruct-ov\"\n",
    "\n",
    "if not Path(model_path).exists():\n",
    "    !optimum-cli export openvino --model {model_id} --task text-generation-with-past --trust-remote-code --weight-format int4 {model_path}"
   ]
  },
  {
   "cell_type": "code",
   "execution_count": 1,
   "id": "3c259c61-5eef-41a8-a9f7-462f27d0c7d4",
   "metadata": {},
   "outputs": [
    {
     "name": "stderr",
     "output_type": "stream",
     "text": [
      "/home/ethan/intel/openvino_notebooks/openvino_env/lib/python3.11/site-packages/pydantic/_internal/_fields.py:161: UserWarning: Field \"model_id\" has conflict with protected namespace \"model_\".\n",
      "\n",
      "You may be able to resolve this warning by setting `model_config['protected_namespaces'] = ()`.\n",
      "  warnings.warn(\n",
      "The argument `trust_remote_code` is to be used along with export=True. It will be ignored.\n",
      "Compiling the model to CPU ...\n",
      "Special tokens have been added in the vocabulary, make sure the associated word embeddings are fine-tuned or trained.\n"
     ]
    }
   ],
   "source": [
    "from llama_index.llms.openvino import OpenVINOLLM\n",
    "from llama_index.core import SimpleDirectoryReader, VectorStoreIndex, Settings\n",
    "\n",
    "\n",
    "ov_config = {\"PERFORMANCE_HINT\": \"LATENCY\", \"NUM_STREAMS\": \"1\", \"CACHE_DIR\": \"\"}\n",
    "\n",
    "# def messages_to_prompt(messages):\n",
    "#   prompt_str = \"\\n\".join([str(x) for x in messages])\n",
    "#   return f\"<s>[INST] {prompt_str} [/INST] </s>\\n\"\n",
    "  \n",
    "# def completion_to_prompt(completion):\n",
    "#   return f\"<s>[INST] {completion} [/INST] </s>\\n\"\n",
    "\n",
    "model_path = \"llama-3-8b-instruct/INT4_compressed_weights\"\n",
    "\n",
    "llm = OpenVINOLLM(\n",
    "    model_name=str(model_path),\n",
    "    tokenizer_name=str(model_path),\n",
    "    context_window=3900,\n",
    "    max_new_tokens=1000,\n",
    "    model_kwargs={\"ov_config\": ov_config, \"trust_remote_code\": True},\n",
    "    device_map=\"cpu\",\n",
    ")"
   ]
  },
  {
   "cell_type": "code",
   "execution_count": 2,
   "id": "f594cf18-8100-4207-9ec0-7ded996e85e3",
   "metadata": {},
   "outputs": [],
   "source": [
    "from llama_index.core.agent import ReActAgent\n",
    "from llama_index.core.tools import FunctionTool\n",
    "\n",
    "def multiply(a: float, b: float) -> float:\n",
    "    \"\"\"Multiply two numbers and returns the product\"\"\"\n",
    "    return a * b\n",
    "\n",
    "\n",
    "multiply_tool = FunctionTool.from_defaults(fn=multiply)\n",
    "\n",
    "\n",
    "def add(a: float, b: float) -> float:\n",
    "    \"\"\"Add two numbers and returns the sum\"\"\"\n",
    "    return a + b\n",
    "\n",
    "\n",
    "add_tool = FunctionTool.from_defaults(fn=add)"
   ]
  },
  {
   "cell_type": "code",
   "execution_count": 4,
   "id": "f6579dcf-7793-47e1-b8c5-e2ffe0d31c04",
   "metadata": {},
   "outputs": [
    {
     "name": "stderr",
     "output_type": "stream",
     "text": [
      "Compiling the model to CPU ...\n"
     ]
    }
   ],
   "source": [
    "from llama_index.embeddings.huggingface_openvino import OpenVINOEmbedding\n",
    "\n",
    "\n",
    "embedding = OpenVINOEmbedding(folder_name='bge-small-en-v1.5', device='cpu')"
   ]
  },
  {
   "cell_type": "code",
   "execution_count": 6,
   "id": "eea245b9-73c5-431e-af47-3e676888bd5f",
   "metadata": {},
   "outputs": [],
   "source": [
    "\n",
    "Settings.embed_model = embedding\n",
    "Settings.llm = llm\n",
    "documents = SimpleDirectoryReader(\"./data\").load_data()\n",
    "index = VectorStoreIndex.from_documents(documents)\n",
    "query_engine = index.as_query_engine()"
   ]
  },
  {
   "cell_type": "code",
   "execution_count": 8,
   "id": "9b8cd9c9-a595-4baf-9adc-77f740f19f1f",
   "metadata": {},
   "outputs": [],
   "source": [
    "from llama_index.core.tools import QueryEngineTool\n",
    "\n",
    "budget_tool = QueryEngineTool.from_defaults(\n",
    "    query_engine,\n",
    "    name=\"canadian_budget_2023\",\n",
    "    description=\"A RAG engine with some basic facts about the 2023 Canadian federal budget.\",\n",
    ")"
   ]
  },
  {
   "cell_type": "code",
   "execution_count": 9,
   "id": "c8aefd1d-be3c-46f9-bd67-5c8557f9b385",
   "metadata": {},
   "outputs": [],
   "source": [
    "agent = ReActAgent.from_tools([multiply_tool, add_tool, budget_tool], llm=llm, verbose=True)"
   ]
  },
  {
   "cell_type": "code",
   "execution_count": 10,
   "id": "cbf386c9-f74e-4948-9ea0-94b69b7b2e29",
   "metadata": {},
   "outputs": [
    {
     "name": "stderr",
     "output_type": "stream",
     "text": [
      "Setting `pad_token_id` to `eos_token_id`:128001 for open-end generation.\n",
      "Setting `pad_token_id` to `eos_token_id`:128001 for open-end generation.\n"
     ]
    },
    {
     "name": "stdout",
     "output_type": "stream",
     "text": [
      "\u001b[1;3;38;5;200mThought: The current language of the user is English. I need to use a tool to help me answer the question.\n",
      "Action: canadian_budget_2023\n",
      "Action Input: {'input': '2023 Canadian federal budget'}\n",
      "\u001b[0m"
     ]
    },
    {
     "name": "stderr",
     "output_type": "stream",
     "text": [
      "Setting `pad_token_id` to `eos_token_id`:128001 for open-end generation.\n"
     ]
    },
    {
     "name": "stdout",
     "output_type": "stream",
     "text": [
      "\u001b[1;3;34mObservation:  The 2023 Canadian federal budget was presented to the House of Commons by Finance Minister Chrystia Freeland on March 28, 2023. The budget aimed to make life more affordable for Canadians while reducing government expenditures. It included $43B in net new spending over six years, including $20B for a new 15 per cent refundable tax credit to promote investment in green technologies. The budget also introduced a \"grocery rebate\" of up to $467 for eligible families and up to $234 for eligible single people with no kids. The Canada Student Grants also saw a 40% increase in funding. The budget introduced a 2% tax on stock buybacks and $15B of spending cuts achieved by defunding public services and cancelling previously announced programs. The budget received Royal assent on June 22, 2023, and became law. 7\n",
      "‹ 2022 2024›2023 budget of the\n",
      "Canadian federal\n",
      "government\n",
      "Submitted 28 March 2023\n",
      "Presented 28 March 2023\n",
      "Parliament 44th\n",
      "Party Liberal\n",
      "Finance\n",
      "ministerChrystia Freeland\n",
      "Total revenue$456.8 billion\n",
      "(projected)\n",
      "Total\n",
      "expenditures$496.9 billion\n",
      "(projected)\n",
      "Deﬁcit $40.1 billion\n",
      "(projected)[ 1 ]\n",
      "GDP TBA\n",
      "Website 2023 Budget (http\n",
      "s://www.budget.can\n",
      "ada.ca/2023/home-\n",
      "accueil-en.html)\n",
      "2023 Canadian federal budget\n",
      "The Cana dian federal budget for the fiscal years of 2023–24 was\n",
      "presented to the House of Common s by Finance Minister  Chrystia\n",
      "Freeland on 28 March 2023.[2] The budget was meant to reflect\n",
      "Prime Minister Justin Trudeau's stated policy objective to \"make\n",
      "life more affordable for Canadia ns\"[3] while also reducing\n",
      "government expenditures.[4]\n",
      "The 2023  budget is the seventh budget document introduced in\n",
      "the House of Commons  under the premiership of Justin Trudeau.\n",
      "It comes at the heel of the first anniversary of the Russian\n",
      "invasion of Ukraine, following which Canada sent one billion\n",
      "dollars in military aid to Ukraine.[5]\n",
      "United States  President Joe Biden's Inflation Reduction Act of\n",
      "2022  included unprecedented investmen ts in initiatives aimed at\n",
      "promoting Green growth. Canada was expected to announce\n",
      "similar investments in its 2023 budget in order to remain\n",
      "competitive with its southern neighbour.[6]\n",
      "On 22 June 2023, all parts of the budget received Royal assent,\n",
      "and became law.[7]\n",
      "The budget included $43B in net new spending over six years,[8]\n",
      "including $20B for a new 15 per cent refundable tax credit to\n",
      "promote investment in green technologies.[9] $13B was also\n",
      "allocated to implement a means-tested dental care program, a\n",
      "policy originating in the NDP-Libera l deal of 2022.[8] The Canadian Dental Care Plan  began rollout in\n",
      "December 2023.[10]\n",
      "The budget introduced a \"grocery rebate\" of up to $467 for eligible families and up to $234 for eligible\n",
      "single people with no kids. The Canada Student Grants  also saw a 40% increase in funding.[11]\n",
      "Freeland issued $15B of spending  cuts, achieved by defunding public services and cancelling\n",
      "previously announced programs.[12] A new tax 2% on stock buybacks  was also introduced.[11]Background\n",
      "Measures\n",
      "Housing6/19/24, 1:59 PM 2023 Canadian federal budget - Wikipedia\n",
      "https://en.wikipedia.org/wiki/2023_Canadian_federal_budget 4/4\n",
      "---------------------\n",
      "page_label: 1\n",
      "file_path: /home/ethan/intel/openvino_notebooks/notebooks/llm-rag-llamaindex/data/2023_canadian_budget.pdf\n",
      "\n",
      "‹ 2022 2024›2023 budget of the\n",
      "Canadian federal\n",
      "government\n",
      "Submitted 28 March 2023\n",
      "Presented 28 March 2023\n",
      "Parliament 44th\n",
      "Party Liberal\n",
      "Finance\n",
      "ministerChrystia Freeland\n",
      "Total revenue$456.8 billion\n",
      "(projected)\n",
      "Total\n",
      "expenditures$496.9 billion\n",
      "(projected)\n",
      "Deﬁcit $40.1 billion\n",
      "(projected)[ 1 ]\n",
      "GDP TBA\n",
      "Website 2023 Budget (http\n",
      "s://www.budget.can\n",
      "ada.ca/2023/home-\n",
      "accueil-en.html)\n",
      "2023 Canadian federal budget\n",
      "The Cana dian federal budget for the fiscal years of 2023–24 was\n",
      "presented to the House of Common s by Finance Minister  Chrystia\n",
      "Freeland on 28 March\n",
      "\u001b[0m"
     ]
    },
    {
     "name": "stderr",
     "output_type": "stream",
     "text": [
      "Setting `pad_token_id` to `eos_token_id`:128001 for open-end generation.\n"
     ]
    },
    {
     "name": "stdout",
     "output_type": "stream",
     "text": [
      "\u001b[1;3;38;5;200mThought: The user wants to know the total amount of the 2023 Canadian federal budget multiplied by 3. I will use the tool to extract the total revenue and then multiply it by 3.\n",
      "Action: multiply\n",
      "Action Input: {'a': 456.8, 'b': 3}\n",
      "\u001b[0m\u001b[1;3;34mObservation: 1370.4\n",
      "\u001b[0m"
     ]
    },
    {
     "name": "stderr",
     "output_type": "stream",
     "text": [
      "Setting `pad_token_id` to `eos_token_id`:128001 for open-end generation.\n"
     ]
    },
    {
     "name": "stdout",
     "output_type": "stream",
     "text": [
      "\u001b[1;3;38;5;200mThought: The user wants to know the total amount of the 2023 Canadian federal budget multiplied by 3. The result is 1370.4. I can now use another tool to add this result to the total amount of the budget.\n",
      "Action: add\n",
      "Action Input: {'a': 1370.4, 'b': 40.1}\n",
      "\u001b[0m\u001b[1;3;34mObservation: 1410.5\n",
      "\u001b[0m"
     ]
    },
    {
     "name": "stderr",
     "output_type": "stream",
     "text": [
      "Setting `pad_token_id` to `eos_token_id`:128001 for open-end generation.\n"
     ]
    },
    {
     "name": "stdout",
     "output_type": "stream",
     "text": [
      "\u001b[1;3;34mObservation: Error: Could not parse output. Please follow the thought-action-input format. Try again.\n",
      "\u001b[0m"
     ]
    },
    {
     "name": "stderr",
     "output_type": "stream",
     "text": [
      "Setting `pad_token_id` to `eos_token_id`:128001 for open-end generation.\n"
     ]
    },
    {
     "name": "stdout",
     "output_type": "stream",
     "text": [
      "\u001b[1;3;38;5;200mThought: The user wants to know the total amount of the 2023 Canadian federal budget multiplied by 3. The result is 1370.4. I will use the tool to add this result to the total deficit of the budget.\n",
      "Action: add\n",
      "Action Input: {'a': 1370.4, 'b': 40.1}\n",
      "\u001b[0m\u001b[1;3;34mObservation: 1410.5\n",
      "\u001b[0m"
     ]
    },
    {
     "name": "stderr",
     "output_type": "stream",
     "text": [
      "Setting `pad_token_id` to `eos_token_id`:128001 for open-end generation.\n"
     ]
    },
    {
     "name": "stdout",
     "output_type": "stream",
     "text": [
      "\u001b[1;3;38;5;200mThought: I think there's a mistake! The user wants to add the result of multiplying the total revenue by 3 to the total deficit, not add the result to the deficit. Let me try again.\n",
      "\n",
      "Thought: The user wants to know the total amount of the 2023 Canadian federal budget multiplied by 3. The result is 1370.4. I will use the tool to add this result to the total deficit of the budget.\n",
      "Action: add\n",
      "Action Input: {'a': 456.8, 'b': 40.1}\n",
      "\u001b[0m\u001b[1;3;34mObservation: 496.90000000000003\n",
      "\u001b[0m"
     ]
    },
    {
     "name": "stderr",
     "output_type": "stream",
     "text": [
      "Setting `pad_token_id` to `eos_token_id`:128001 for open-end generation.\n"
     ]
    },
    {
     "name": "stdout",
     "output_type": "stream",
     "text": [
      "\u001b[1;3;38;5;200mThought: The user wants to know the total amount of the 2023 Canadian federal budget multiplied by 3. The result is 1370.4. I will use the tool to multiply the total revenue by 3.\n",
      "Action: multiply\n",
      "Action Input: {'a': 456.8, 'b': 3}\n",
      "\u001b[0m\u001b[1;3;34mObservation: 1370.4\n",
      "\u001b[0m\u001b[1;3;38;5;200mThought: I can answer without using any more tools. I'll use the user's language to answer.\n",
      "Answer: The total amount of the 2023 Canadian federal budget multiplied by 3 is $1,370.4.\n",
      "\u001b[0m"
     ]
    }
   ],
   "source": [
    "response = agent.chat(\n",
    "    \"What is the total amount of the 2023 Canadian federal budget multiplied by 3? Go step by step, using a tool to do any math.\"\n",
    ")"
   ]
  },
  {
   "cell_type": "code",
   "execution_count": 40,
   "id": "0f7000f9-1c50-4456-b368-c42624c38b3f",
   "metadata": {},
   "outputs": [
    {
     "name": "stdout",
     "output_type": "stream",
     "text": [
      "Thought\n"
     ]
    }
   ],
   "source": [
    "print(response)"
   ]
  },
  {
   "cell_type": "code",
   "execution_count": null,
   "id": "4700e3e5-982d-4108-bc87-6a5f3df51645",
   "metadata": {},
   "outputs": [],
   "source": []
  }
 ],
 "metadata": {
  "kernelspec": {
   "display_name": "Python 3 (ipykernel)",
   "language": "python",
   "name": "python3"
  },
  "language_info": {
   "codemirror_mode": {
    "name": "ipython",
    "version": 3
   },
   "file_extension": ".py",
   "mimetype": "text/x-python",
   "name": "python",
   "nbconvert_exporter": "python",
   "pygments_lexer": "ipython3",
   "version": "3.11.4"
  }
 },
 "nbformat": 4,
 "nbformat_minor": 5
}
